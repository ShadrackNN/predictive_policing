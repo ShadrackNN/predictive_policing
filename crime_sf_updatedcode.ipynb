{
 "cells": [
  {
   "cell_type": "markdown",
   "metadata": {},
   "source": [
    "# Predictive Policing in SF - a toy WMD"
   ]
  },
  {
   "cell_type": "markdown",
   "metadata": {},
   "source": [
    "## For a blog post explaining the motivation behind this project and an interactive map with the predictions visit:\n",
    "\n",
    " http://www.orlandotorres.org/predictive-policing-sf.html\n",
    "\n",
    " updated link -- \n",
    "\n",
    "Data Science gone wrong: Predictive Policing is a WMD | by Orlando Torres | TDS Archive | Medium\n",
    "\n",
    "https://medium.com/data-science/the-perils-of-predictive-policing-11928a9f1d60"
   ]
  },
  {
   "cell_type": "code",
   "execution_count": 1,
   "metadata": {},
   "outputs": [
    {
     "data": {
      "text/html": [
       "<style>.container { width:85% !important; }</style>"
      ],
      "text/plain": [
       "<IPython.core.display.HTML object>"
      ]
     },
     "metadata": {},
     "output_type": "display_data"
    }
   ],
   "source": [
    "from sklearn.linear_model import LinearRegression\n",
    "from sklearn.ensemble import RandomForestRegressor\n",
    "from sklearn.neighbors import KNeighborsRegressor\n",
    "from sklearn.neural_network import MLPRegressor\n",
    "from sklearn.svm import SVR\n",
    "from xgboost import XGBRegressor\n",
    "import geopandas\n",
    "from shapely.geometry import Point\n",
    "import numpy as np\n",
    "import pandas as pd\n",
    "#import statsmodels.formula.api as sm\n",
    "import statsmodels.api as sm\n",
    "import matplotlib.pyplot as plt\n",
    "import seaborn as sns\n",
    "%matplotlib inline\n",
    "import os\n",
    "from IPython.display import display, HTML\n",
    "display(HTML(\"<style>.container { width:85% !important; }</style>\"))\n",
    "\n",
    "pd.options.mode.chained_assignment = None"
   ]
  },
  {
   "cell_type": "code",
   "execution_count": null,
   "metadata": {
    "collapsed": false,
    "jupyter": {
     "outputs_hidden": false
    }
   },
   "outputs": [],
   "source": []
  },
  {
   "cell_type": "code",
   "execution_count": 2,
   "metadata": {
    "collapsed": false,
    "jupyter": {
     "outputs_hidden": false
    }
   },
   "outputs": [],
   "source": [
    "crime17 = pd.read_csv('sf_incidents17.csv')\n",
    "crime16 = pd.read_csv('sf_incidents16.csv')\n",
    "\n",
    "#df.head()\n",
    "\n"
   ]
  },
  {
   "cell_type": "markdown",
   "metadata": {},
   "source": [
    "### Find the zip codes for each incident given the latitude and longitude"
   ]
  },
  {
   "cell_type": "code",
   "execution_count": 3,
   "metadata": {
    "collapsed": false,
    "jupyter": {
     "outputs_hidden": false
    },
    "scrolled": true
   },
   "outputs": [],
   "source": [
    "crime16['geometry'] = crime16.apply(lambda row: Point(row['X'], row['Y']), axis=1)"
   ]
  },
  {
   "cell_type": "code",
   "execution_count": 4,
   "metadata": {},
   "outputs": [
    {
     "data": {
      "text/html": [
       "<div>\n",
       "<style scoped>\n",
       "    .dataframe tbody tr th:only-of-type {\n",
       "        vertical-align: middle;\n",
       "    }\n",
       "\n",
       "    .dataframe tbody tr th {\n",
       "        vertical-align: top;\n",
       "    }\n",
       "\n",
       "    .dataframe thead th {\n",
       "        text-align: right;\n",
       "    }\n",
       "</style>\n",
       "<table border=\"1\" class=\"dataframe\">\n",
       "  <thead>\n",
       "    <tr style=\"text-align: right;\">\n",
       "      <th></th>\n",
       "      <th>IncidntNum</th>\n",
       "      <th>Category</th>\n",
       "      <th>Descript</th>\n",
       "      <th>DayOfWeek</th>\n",
       "      <th>Date</th>\n",
       "      <th>Time</th>\n",
       "      <th>PdDistrict</th>\n",
       "      <th>Resolution</th>\n",
       "      <th>Address</th>\n",
       "      <th>X</th>\n",
       "      <th>Y</th>\n",
       "      <th>Location</th>\n",
       "      <th>PdId</th>\n",
       "      <th>geometry</th>\n",
       "    </tr>\n",
       "  </thead>\n",
       "  <tbody>\n",
       "    <tr>\n",
       "      <th>0</th>\n",
       "      <td>120058272</td>\n",
       "      <td>WEAPON LAWS</td>\n",
       "      <td>POSS OF PROHIBITED WEAPON</td>\n",
       "      <td>Friday</td>\n",
       "      <td>01/29/2016 12:00:00 AM</td>\n",
       "      <td>11:00</td>\n",
       "      <td>SOUTHERN</td>\n",
       "      <td>ARREST, BOOKED</td>\n",
       "      <td>800 Block of BRYANT ST</td>\n",
       "      <td>-122.403405</td>\n",
       "      <td>37.775421</td>\n",
       "      <td>(37.775420706711, -122.403404791479)</td>\n",
       "      <td>12005827212120</td>\n",
       "      <td>POINT (-122.4034 37.77542)</td>\n",
       "    </tr>\n",
       "    <tr>\n",
       "      <th>1</th>\n",
       "      <td>120058272</td>\n",
       "      <td>WEAPON LAWS</td>\n",
       "      <td>FIREARM, LOADED, IN VEHICLE, POSSESSION OR USE</td>\n",
       "      <td>Friday</td>\n",
       "      <td>01/29/2016 12:00:00 AM</td>\n",
       "      <td>11:00</td>\n",
       "      <td>SOUTHERN</td>\n",
       "      <td>ARREST, BOOKED</td>\n",
       "      <td>800 Block of BRYANT ST</td>\n",
       "      <td>-122.403405</td>\n",
       "      <td>37.775421</td>\n",
       "      <td>(37.775420706711, -122.403404791479)</td>\n",
       "      <td>12005827212168</td>\n",
       "      <td>POINT (-122.4034 37.77542)</td>\n",
       "    </tr>\n",
       "    <tr>\n",
       "      <th>2</th>\n",
       "      <td>160147073</td>\n",
       "      <td>VEHICLE THEFT</td>\n",
       "      <td>STOLEN MOTORCYCLE</td>\n",
       "      <td>Thursday</td>\n",
       "      <td>02/18/2016 12:00:00 AM</td>\n",
       "      <td>22:00</td>\n",
       "      <td>NORTHERN</td>\n",
       "      <td>UNFOUNDED</td>\n",
       "      <td>BROADWAY ST / GOUGH ST</td>\n",
       "      <td>-122.426703</td>\n",
       "      <td>37.795316</td>\n",
       "      <td>(37.7953163162613, -122.426702502506)</td>\n",
       "      <td>16014707307023</td>\n",
       "      <td>POINT (-122.4267 37.79532)</td>\n",
       "    </tr>\n",
       "    <tr>\n",
       "      <th>3</th>\n",
       "      <td>160802233</td>\n",
       "      <td>NON-CRIMINAL</td>\n",
       "      <td>LOST PROPERTY</td>\n",
       "      <td>Monday</td>\n",
       "      <td>10/03/2016 12:00:00 AM</td>\n",
       "      <td>01:18</td>\n",
       "      <td>SOUTHERN</td>\n",
       "      <td>NONE</td>\n",
       "      <td>800 Block of MARKET ST</td>\n",
       "      <td>-122.407902</td>\n",
       "      <td>37.784253</td>\n",
       "      <td>(37.784253176872, -122.407902468508)</td>\n",
       "      <td>16080223371000</td>\n",
       "      <td>POINT (-122.4079 37.78425)</td>\n",
       "    </tr>\n",
       "    <tr>\n",
       "      <th>4</th>\n",
       "      <td>141059263</td>\n",
       "      <td>WARRANTS</td>\n",
       "      <td>WARRANT ARREST</td>\n",
       "      <td>Monday</td>\n",
       "      <td>04/25/2016 12:00:00 AM</td>\n",
       "      <td>14:59</td>\n",
       "      <td>BAYVIEW</td>\n",
       "      <td>ARREST, BOOKED</td>\n",
       "      <td>KEITH ST / SHAFTER AV</td>\n",
       "      <td>-122.388856</td>\n",
       "      <td>37.729981</td>\n",
       "      <td>(37.7299809672996, -122.388856204292)</td>\n",
       "      <td>14105926363010</td>\n",
       "      <td>POINT (-122.38886 37.72998)</td>\n",
       "    </tr>\n",
       "    <tr>\n",
       "      <th>...</th>\n",
       "      <td>...</td>\n",
       "      <td>...</td>\n",
       "      <td>...</td>\n",
       "      <td>...</td>\n",
       "      <td>...</td>\n",
       "      <td>...</td>\n",
       "      <td>...</td>\n",
       "      <td>...</td>\n",
       "      <td>...</td>\n",
       "      <td>...</td>\n",
       "      <td>...</td>\n",
       "      <td>...</td>\n",
       "      <td>...</td>\n",
       "      <td>...</td>\n",
       "    </tr>\n",
       "    <tr>\n",
       "      <th>150723</th>\n",
       "      <td>161061000</td>\n",
       "      <td>ASSAULT</td>\n",
       "      <td>BATTERY</td>\n",
       "      <td>Friday</td>\n",
       "      <td>12/30/2016 12:00:00 AM</td>\n",
       "      <td>21:01</td>\n",
       "      <td>PARK</td>\n",
       "      <td>NONE</td>\n",
       "      <td>OAK ST / STANYAN ST</td>\n",
       "      <td>-122.453982</td>\n",
       "      <td>37.771428</td>\n",
       "      <td>(37.7714278595913, -122.453981622365)</td>\n",
       "      <td>16106100004134</td>\n",
       "      <td>POINT (-122.45398 37.77143)</td>\n",
       "    </tr>\n",
       "    <tr>\n",
       "      <th>150724</th>\n",
       "      <td>176000742</td>\n",
       "      <td>NON-CRIMINAL</td>\n",
       "      <td>LOST PROPERTY</td>\n",
       "      <td>Friday</td>\n",
       "      <td>12/30/2016 12:00:00 AM</td>\n",
       "      <td>08:00</td>\n",
       "      <td>CENTRAL</td>\n",
       "      <td>NONE</td>\n",
       "      <td>JACKSON ST / SANSOME ST</td>\n",
       "      <td>-122.401857</td>\n",
       "      <td>37.796626</td>\n",
       "      <td>(37.7966261239618, -122.401857374739)</td>\n",
       "      <td>17600074271000</td>\n",
       "      <td>POINT (-122.40186 37.79663)</td>\n",
       "    </tr>\n",
       "    <tr>\n",
       "      <th>150725</th>\n",
       "      <td>176000758</td>\n",
       "      <td>LARCENY/THEFT</td>\n",
       "      <td>PETTY THEFT OF PROPERTY</td>\n",
       "      <td>Thursday</td>\n",
       "      <td>12/29/2016 12:00:00 AM</td>\n",
       "      <td>20:00</td>\n",
       "      <td>CENTRAL</td>\n",
       "      <td>NONE</td>\n",
       "      <td>PINE ST / TAYLOR ST</td>\n",
       "      <td>-122.412269</td>\n",
       "      <td>37.790673</td>\n",
       "      <td>(37.7906727649886, -122.41226909106)</td>\n",
       "      <td>17600075806372</td>\n",
       "      <td>POINT (-122.41227 37.79067)</td>\n",
       "    </tr>\n",
       "    <tr>\n",
       "      <th>150726</th>\n",
       "      <td>176000764</td>\n",
       "      <td>LARCENY/THEFT</td>\n",
       "      <td>GRAND THEFT OF PROPERTY</td>\n",
       "      <td>Friday</td>\n",
       "      <td>12/30/2016 12:00:00 AM</td>\n",
       "      <td>10:00</td>\n",
       "      <td>CENTRAL</td>\n",
       "      <td>NONE</td>\n",
       "      <td>200 Block of STOCKTON ST</td>\n",
       "      <td>-122.406659</td>\n",
       "      <td>37.788275</td>\n",
       "      <td>(37.7882745285785, -122.406658711008)</td>\n",
       "      <td>17600076406374</td>\n",
       "      <td>POINT (-122.40666 37.78827)</td>\n",
       "    </tr>\n",
       "    <tr>\n",
       "      <th>150727</th>\n",
       "      <td>179002868</td>\n",
       "      <td>OTHER OFFENSES</td>\n",
       "      <td>FRAUDULENT GAME OR TRICK, OBTAINING MONEY OR P...</td>\n",
       "      <td>Friday</td>\n",
       "      <td>12/02/2016 12:00:00 AM</td>\n",
       "      <td>14:00</td>\n",
       "      <td>SOUTHERN</td>\n",
       "      <td>NONE</td>\n",
       "      <td>800 Block of BRYANT ST</td>\n",
       "      <td>-122.403405</td>\n",
       "      <td>37.775421</td>\n",
       "      <td>(37.775420706711, -122.403404791479)</td>\n",
       "      <td>17900286809024</td>\n",
       "      <td>POINT (-122.4034 37.77542)</td>\n",
       "    </tr>\n",
       "  </tbody>\n",
       "</table>\n",
       "<p>150728 rows × 14 columns</p>\n",
       "</div>"
      ],
      "text/plain": [
       "        IncidntNum        Category  \\\n",
       "0        120058272     WEAPON LAWS   \n",
       "1        120058272     WEAPON LAWS   \n",
       "2        160147073   VEHICLE THEFT   \n",
       "3        160802233    NON-CRIMINAL   \n",
       "4        141059263        WARRANTS   \n",
       "...            ...             ...   \n",
       "150723   161061000         ASSAULT   \n",
       "150724   176000742    NON-CRIMINAL   \n",
       "150725   176000758   LARCENY/THEFT   \n",
       "150726   176000764   LARCENY/THEFT   \n",
       "150727   179002868  OTHER OFFENSES   \n",
       "\n",
       "                                                 Descript DayOfWeek  \\\n",
       "0                               POSS OF PROHIBITED WEAPON    Friday   \n",
       "1          FIREARM, LOADED, IN VEHICLE, POSSESSION OR USE    Friday   \n",
       "2                                       STOLEN MOTORCYCLE  Thursday   \n",
       "3                                           LOST PROPERTY    Monday   \n",
       "4                                          WARRANT ARREST    Monday   \n",
       "...                                                   ...       ...   \n",
       "150723                                            BATTERY    Friday   \n",
       "150724                                      LOST PROPERTY    Friday   \n",
       "150725                            PETTY THEFT OF PROPERTY  Thursday   \n",
       "150726                            GRAND THEFT OF PROPERTY    Friday   \n",
       "150727  FRAUDULENT GAME OR TRICK, OBTAINING MONEY OR P...    Friday   \n",
       "\n",
       "                          Date   Time PdDistrict      Resolution  \\\n",
       "0       01/29/2016 12:00:00 AM  11:00   SOUTHERN  ARREST, BOOKED   \n",
       "1       01/29/2016 12:00:00 AM  11:00   SOUTHERN  ARREST, BOOKED   \n",
       "2       02/18/2016 12:00:00 AM  22:00   NORTHERN       UNFOUNDED   \n",
       "3       10/03/2016 12:00:00 AM  01:18   SOUTHERN            NONE   \n",
       "4       04/25/2016 12:00:00 AM  14:59    BAYVIEW  ARREST, BOOKED   \n",
       "...                        ...    ...        ...             ...   \n",
       "150723  12/30/2016 12:00:00 AM  21:01       PARK            NONE   \n",
       "150724  12/30/2016 12:00:00 AM  08:00    CENTRAL            NONE   \n",
       "150725  12/29/2016 12:00:00 AM  20:00    CENTRAL            NONE   \n",
       "150726  12/30/2016 12:00:00 AM  10:00    CENTRAL            NONE   \n",
       "150727  12/02/2016 12:00:00 AM  14:00   SOUTHERN            NONE   \n",
       "\n",
       "                         Address           X          Y  \\\n",
       "0         800 Block of BRYANT ST -122.403405  37.775421   \n",
       "1         800 Block of BRYANT ST -122.403405  37.775421   \n",
       "2         BROADWAY ST / GOUGH ST -122.426703  37.795316   \n",
       "3         800 Block of MARKET ST -122.407902  37.784253   \n",
       "4          KEITH ST / SHAFTER AV -122.388856  37.729981   \n",
       "...                          ...         ...        ...   \n",
       "150723       OAK ST / STANYAN ST -122.453982  37.771428   \n",
       "150724   JACKSON ST / SANSOME ST -122.401857  37.796626   \n",
       "150725       PINE ST / TAYLOR ST -122.412269  37.790673   \n",
       "150726  200 Block of STOCKTON ST -122.406659  37.788275   \n",
       "150727    800 Block of BRYANT ST -122.403405  37.775421   \n",
       "\n",
       "                                     Location            PdId  \\\n",
       "0        (37.775420706711, -122.403404791479)  12005827212120   \n",
       "1        (37.775420706711, -122.403404791479)  12005827212168   \n",
       "2       (37.7953163162613, -122.426702502506)  16014707307023   \n",
       "3        (37.784253176872, -122.407902468508)  16080223371000   \n",
       "4       (37.7299809672996, -122.388856204292)  14105926363010   \n",
       "...                                       ...             ...   \n",
       "150723  (37.7714278595913, -122.453981622365)  16106100004134   \n",
       "150724  (37.7966261239618, -122.401857374739)  17600074271000   \n",
       "150725   (37.7906727649886, -122.41226909106)  17600075806372   \n",
       "150726  (37.7882745285785, -122.406658711008)  17600076406374   \n",
       "150727   (37.775420706711, -122.403404791479)  17900286809024   \n",
       "\n",
       "                           geometry  \n",
       "0        POINT (-122.4034 37.77542)  \n",
       "1        POINT (-122.4034 37.77542)  \n",
       "2        POINT (-122.4267 37.79532)  \n",
       "3        POINT (-122.4079 37.78425)  \n",
       "4       POINT (-122.38886 37.72998)  \n",
       "...                             ...  \n",
       "150723  POINT (-122.45398 37.77143)  \n",
       "150724  POINT (-122.40186 37.79663)  \n",
       "150725  POINT (-122.41227 37.79067)  \n",
       "150726  POINT (-122.40666 37.78827)  \n",
       "150727   POINT (-122.4034 37.77542)  \n",
       "\n",
       "[150728 rows x 14 columns]"
      ]
     },
     "execution_count": 4,
     "metadata": {},
     "output_type": "execute_result"
    }
   ],
   "source": [
    "geo_police_data = geopandas.GeoDataFrame(crime16, geometry='geometry')\n",
    "#geo_police_data.crs = {'init': 'epsg:4326'}\n",
    "\n",
    "geo_police_data.set_crs(\"EPSG:4326\", inplace=True)\n",
    "\n"
   ]
  },
  {
   "cell_type": "code",
   "execution_count": 5,
   "metadata": {},
   "outputs": [],
   "source": [
    "sf = geopandas.read_file('zipcodes_geo.json')\n",
    "#sf.crs = {'init': 'epsg:4326'}\n",
    "#sf = sf.set_geometry('geometry')\n",
    "\n",
    "sf.set_crs(\"EPSG:4326\", inplace=True)\n",
    "sf = sf.set_geometry('geometry')\n"
   ]
  },
  {
   "cell_type": "code",
   "execution_count": 6,
   "metadata": {
    "collapsed": false,
    "jupyter": {
     "outputs_hidden": false
    }
   },
   "outputs": [],
   "source": [
    "crime16 = geopandas.tools.sjoin(geo_police_data, sf, how='left')"
   ]
  },
  {
   "cell_type": "markdown",
   "metadata": {},
   "source": [
    "### Find which zip codes, day of week, and hour have the most crimes"
   ]
  },
  {
   "cell_type": "code",
   "execution_count": 7,
   "metadata": {
    "collapsed": false,
    "jupyter": {
     "outputs_hidden": false
    }
   },
   "outputs": [],
   "source": [
    "day_time_zip_16 = crime16[['Date', 'DayOfWeek', 'Time', 'zip']]"
   ]
  },
  {
   "cell_type": "code",
   "execution_count": 8,
   "metadata": {
    "collapsed": false,
    "jupyter": {
     "outputs_hidden": false
    }
   },
   "outputs": [],
   "source": [
    "#day_time_zip_16.loc[:, 'Date'] = pd.to_datetime(day_time_zip_16['Date'])\n",
    "\n",
    "#day_time_zip_16.loc[:, 'Hour'] = pd.to_datetime(day_time_zip_16['Time'])\n",
    "#day_time_zip_16.loc[:, 'Hour'] = day_time_zip_16.Hour.apply(lambda x: x.hour)\n",
    "\n",
    "# Convert 'Date' column with full datetime\n",
    "\n",
    "day_time_zip_16.loc[:, 'Date'] = pd.to_datetime(day_time_zip_16['Date'], format='%m/%d/%Y %I:%M:%S %p', errors='coerce')\n",
    "\n",
    " \n",
    "\n",
    "# Convert 'Time' and extract hour safely\n",
    "\n",
    "day_time_zip_16.loc[:, 'Parsed_Time'] = pd.to_datetime(day_time_zip_16['Time'], format='%H:%M', errors='coerce')\n",
    "\n",
    "day_time_zip_16.loc[:, 'Hour'] = day_time_zip_16['Parsed_Time'].dt.hour.astype('Int64')  # Nullable int\n"
   ]
  },
  {
   "cell_type": "code",
   "execution_count": 9,
   "metadata": {
    "collapsed": false,
    "jupyter": {
     "outputs_hidden": false
    }
   },
   "outputs": [
    {
     "data": {
      "text/html": [
       "<div>\n",
       "<style scoped>\n",
       "    .dataframe tbody tr th:only-of-type {\n",
       "        vertical-align: middle;\n",
       "    }\n",
       "\n",
       "    .dataframe tbody tr th {\n",
       "        vertical-align: top;\n",
       "    }\n",
       "\n",
       "    .dataframe thead th {\n",
       "        text-align: right;\n",
       "    }\n",
       "</style>\n",
       "<table border=\"1\" class=\"dataframe\">\n",
       "  <thead>\n",
       "    <tr style=\"text-align: right;\">\n",
       "      <th></th>\n",
       "      <th>Date</th>\n",
       "      <th>DayOfWeek</th>\n",
       "      <th>Time</th>\n",
       "      <th>zip</th>\n",
       "      <th>Parsed_Time</th>\n",
       "      <th>Hour</th>\n",
       "    </tr>\n",
       "  </thead>\n",
       "  <tbody>\n",
       "    <tr>\n",
       "      <th>0</th>\n",
       "      <td>2016-01-29 00:00:00</td>\n",
       "      <td>Friday</td>\n",
       "      <td>11:00</td>\n",
       "      <td>94103</td>\n",
       "      <td>1900-01-01 11:00:00</td>\n",
       "      <td>11</td>\n",
       "    </tr>\n",
       "    <tr>\n",
       "      <th>1</th>\n",
       "      <td>2016-01-29 00:00:00</td>\n",
       "      <td>Friday</td>\n",
       "      <td>11:00</td>\n",
       "      <td>94103</td>\n",
       "      <td>1900-01-01 11:00:00</td>\n",
       "      <td>11</td>\n",
       "    </tr>\n",
       "    <tr>\n",
       "      <th>2</th>\n",
       "      <td>2016-02-18 00:00:00</td>\n",
       "      <td>Thursday</td>\n",
       "      <td>22:00</td>\n",
       "      <td>94109</td>\n",
       "      <td>1900-01-01 22:00:00</td>\n",
       "      <td>22</td>\n",
       "    </tr>\n",
       "    <tr>\n",
       "      <th>3</th>\n",
       "      <td>2016-10-03 00:00:00</td>\n",
       "      <td>Monday</td>\n",
       "      <td>01:18</td>\n",
       "      <td>94102</td>\n",
       "      <td>1900-01-01 01:18:00</td>\n",
       "      <td>1</td>\n",
       "    </tr>\n",
       "    <tr>\n",
       "      <th>4</th>\n",
       "      <td>2016-04-25 00:00:00</td>\n",
       "      <td>Monday</td>\n",
       "      <td>14:59</td>\n",
       "      <td>94124</td>\n",
       "      <td>1900-01-01 14:59:00</td>\n",
       "      <td>14</td>\n",
       "    </tr>\n",
       "  </tbody>\n",
       "</table>\n",
       "</div>"
      ],
      "text/plain": [
       "                  Date DayOfWeek   Time    zip         Parsed_Time  Hour\n",
       "0  2016-01-29 00:00:00    Friday  11:00  94103 1900-01-01 11:00:00    11\n",
       "1  2016-01-29 00:00:00    Friday  11:00  94103 1900-01-01 11:00:00    11\n",
       "2  2016-02-18 00:00:00  Thursday  22:00  94109 1900-01-01 22:00:00    22\n",
       "3  2016-10-03 00:00:00    Monday  01:18  94102 1900-01-01 01:18:00     1\n",
       "4  2016-04-25 00:00:00    Monday  14:59  94124 1900-01-01 14:59:00    14"
      ]
     },
     "execution_count": 9,
     "metadata": {},
     "output_type": "execute_result"
    }
   ],
   "source": [
    "day_time_zip_16.head()"
   ]
  },
  {
   "cell_type": "markdown",
   "metadata": {},
   "source": [
    "## Remove data from November and December because I don't have that data for 2017 to compare it to"
   ]
  },
  {
   "cell_type": "code",
   "execution_count": 10,
   "metadata": {},
   "outputs": [],
   "source": [
    "#day_time_zip_16_final = day_time_zip_16[day_time_zip_16.Date.dt.month < 11]\n",
    "\n",
    "#day_time_zip_16_final = day_time_zip_16[day_time_zip_16.Date.dt.month < 11]\n",
    "\n",
    "day_time_zip_16['Date'] = pd.to_datetime(day_time_zip_16['Date'], errors='coerce')\n",
    "\n",
    "day_time_zip_16_final = day_time_zip_16[day_time_zip_16['Date'].dt.month < 11]"
   ]
  },
  {
   "cell_type": "markdown",
   "metadata": {},
   "source": [
    "## Combine all the crimes into hours and days and zip codes"
   ]
  },
  {
   "cell_type": "code",
   "execution_count": 11,
   "metadata": {
    "collapsed": false,
    "jupyter": {
     "outputs_hidden": false
    }
   },
   "outputs": [],
   "source": [
    "day_time_zip_16_final = day_time_zip_16[['DayOfWeek', 'zip', 'Hour']]"
   ]
  },
  {
   "cell_type": "code",
   "execution_count": 12,
   "metadata": {
    "collapsed": false,
    "jupyter": {
     "outputs_hidden": false
    }
   },
   "outputs": [],
   "source": [
    "day_time_zip_16_final.loc[:, 'Crimes'] = 1"
   ]
  },
  {
   "cell_type": "code",
   "execution_count": 13,
   "metadata": {
    "collapsed": false,
    "jupyter": {
     "outputs_hidden": false
    }
   },
   "outputs": [],
   "source": [
    "hour_totals_16 = day_time_zip_16_final.groupby(['DayOfWeek', 'zip', 'Hour']).sum().reset_index()"
   ]
  },
  {
   "cell_type": "code",
   "execution_count": 14,
   "metadata": {
    "collapsed": false,
    "jupyter": {
     "outputs_hidden": false
    }
   },
   "outputs": [
    {
     "data": {
      "text/html": [
       "<div>\n",
       "<style scoped>\n",
       "    .dataframe tbody tr th:only-of-type {\n",
       "        vertical-align: middle;\n",
       "    }\n",
       "\n",
       "    .dataframe tbody tr th {\n",
       "        vertical-align: top;\n",
       "    }\n",
       "\n",
       "    .dataframe thead th {\n",
       "        text-align: right;\n",
       "    }\n",
       "</style>\n",
       "<table border=\"1\" class=\"dataframe\">\n",
       "  <thead>\n",
       "    <tr style=\"text-align: right;\">\n",
       "      <th></th>\n",
       "      <th>DayOfWeek</th>\n",
       "      <th>zip</th>\n",
       "      <th>Hour</th>\n",
       "      <th>Crimes</th>\n",
       "    </tr>\n",
       "  </thead>\n",
       "  <tbody>\n",
       "    <tr>\n",
       "      <th>41</th>\n",
       "      <td>Friday</td>\n",
       "      <td>94103</td>\n",
       "      <td>17</td>\n",
       "      <td>265</td>\n",
       "    </tr>\n",
       "    <tr>\n",
       "      <th>650</th>\n",
       "      <td>Monday</td>\n",
       "      <td>94103</td>\n",
       "      <td>17</td>\n",
       "      <td>258</td>\n",
       "    </tr>\n",
       "    <tr>\n",
       "      <th>2482</th>\n",
       "      <td>Thursday</td>\n",
       "      <td>94103</td>\n",
       "      <td>18</td>\n",
       "      <td>257</td>\n",
       "    </tr>\n",
       "    <tr>\n",
       "      <th>3699</th>\n",
       "      <td>Wednesday</td>\n",
       "      <td>94103</td>\n",
       "      <td>18</td>\n",
       "      <td>257</td>\n",
       "    </tr>\n",
       "    <tr>\n",
       "      <th>42</th>\n",
       "      <td>Friday</td>\n",
       "      <td>94103</td>\n",
       "      <td>18</td>\n",
       "      <td>253</td>\n",
       "    </tr>\n",
       "  </tbody>\n",
       "</table>\n",
       "</div>"
      ],
      "text/plain": [
       "      DayOfWeek    zip  Hour  Crimes\n",
       "41       Friday  94103    17     265\n",
       "650      Monday  94103    17     258\n",
       "2482   Thursday  94103    18     257\n",
       "3699  Wednesday  94103    18     257\n",
       "42       Friday  94103    18     253"
      ]
     },
     "execution_count": 14,
     "metadata": {},
     "output_type": "execute_result"
    }
   ],
   "source": [
    "hour_totals_16.sort_values('Crimes', ascending = False).head()"
   ]
  },
  {
   "cell_type": "markdown",
   "metadata": {},
   "source": [
    "## Create dummy variables to start doing analysis"
   ]
  },
  {
   "cell_type": "code",
   "execution_count": 15,
   "metadata": {
    "collapsed": false,
    "jupyter": {
     "outputs_hidden": false
    }
   },
   "outputs": [],
   "source": [
    "hour_totals_16 = hour_totals_16[['Crimes', 'Hour', 'DayOfWeek', 'zip']]"
   ]
  },
  {
   "cell_type": "code",
   "execution_count": 16,
   "metadata": {
    "collapsed": false,
    "jupyter": {
     "outputs_hidden": false
    },
    "scrolled": true
   },
   "outputs": [],
   "source": [
    "totals_dummies_16 = pd.get_dummies(hour_totals_16)"
   ]
  },
  {
   "cell_type": "code",
   "execution_count": 17,
   "metadata": {
    "collapsed": false,
    "jupyter": {
     "outputs_hidden": false
    }
   },
   "outputs": [],
   "source": [
    "#X_16 = totals_dummies_16.iloc[:, 1:]\n",
    "#y_16 = totals_dummies_16.iloc[:, 0]\n",
    "\n",
    "#X_16 = totals_dummies_16.iloc[:, 1:]\n",
    "\n",
    "#y_16 = totals_dummies_16.iloc[:, 0]\n",
    "\n",
    " \n",
    "\n",
    "X_16 = totals_dummies_16.drop(columns=['Crimes'])  # all predictors\n",
    "\n",
    "y_16 = totals_dummies_16['Crimes']  # target\n",
    "\n",
    " \n",
    "\n",
    "# Convert all data to numeric numpy arrays (required by statsmodels)\n",
    "\n",
    "X_16_np = X_16.apply(pd.to_numeric, errors='coerce').astype(float).values\n",
    "\n",
    "y_16_np = pd.to_numeric(y_16, errors='coerce').astype(float).values\n",
    "\n",
    " \n",
    "\n",
    "# Check for NaNs and drop them if any (optional safety step)\n",
    "\n",
    "valid_rows = ~np.isnan(X_16_np).any(axis=1) & ~np.isnan(y_16_np)\n",
    "\n",
    "X_16_np = X_16_np[valid_rows]\n",
    "\n",
    "y_16_np = y_16_np[valid_rows]"
   ]
  },
  {
   "cell_type": "markdown",
   "metadata": {},
   "source": [
    "## Linear Regression with 2016 data"
   ]
  },
  {
   "cell_type": "code",
   "execution_count": 18,
   "metadata": {
    "collapsed": false,
    "jupyter": {
     "outputs_hidden": false
    }
   },
   "outputs": [],
   "source": [
    "linear_regression = sm.OLS(y_16_np, X_16_np)\n",
    "results = linear_regression.fit()"
   ]
  },
  {
   "cell_type": "code",
   "execution_count": 19,
   "metadata": {
    "collapsed": false,
    "jupyter": {
     "outputs_hidden": false
    }
   },
   "outputs": [
    {
     "data": {
      "text/html": [
       "<table class=\"simpletable\">\n",
       "<caption>OLS Regression Results</caption>\n",
       "<tr>\n",
       "  <th>Dep. Variable:</th>            <td>y</td>        <th>  R-squared:         </th> <td>   0.759</td> \n",
       "</tr>\n",
       "<tr>\n",
       "  <th>Model:</th>                   <td>OLS</td>       <th>  Adj. R-squared:    </th> <td>   0.757</td> \n",
       "</tr>\n",
       "<tr>\n",
       "  <th>Method:</th>             <td>Least Squares</td>  <th>  F-statistic:       </th> <td>   416.8</td> \n",
       "</tr>\n",
       "<tr>\n",
       "  <th>Date:</th>             <td>Thu, 02 Oct 2025</td> <th>  Prob (F-statistic):</th>  <td>  0.00</td>  \n",
       "</tr>\n",
       "<tr>\n",
       "  <th>Time:</th>                 <td>10:38:21</td>     <th>  Log-Likelihood:    </th> <td> -18432.</td> \n",
       "</tr>\n",
       "<tr>\n",
       "  <th>No. Observations:</th>      <td>  4262</td>      <th>  AIC:               </th> <td>3.693e+04</td>\n",
       "</tr>\n",
       "<tr>\n",
       "  <th>Df Residuals:</th>          <td>  4229</td>      <th>  BIC:               </th> <td>3.714e+04</td>\n",
       "</tr>\n",
       "<tr>\n",
       "  <th>Df Model:</th>              <td>    32</td>      <th>                     </th>     <td> </td>    \n",
       "</tr>\n",
       "<tr>\n",
       "  <th>Covariance Type:</th>      <td>nonrobust</td>    <th>                     </th>     <td> </td>    \n",
       "</tr>\n",
       "</table>\n",
       "<table class=\"simpletable\">\n",
       "<tr>\n",
       "   <td></td>      <th>coef</th>     <th>std err</th>      <th>t</th>      <th>P>|t|</th>  <th>[0.025</th>    <th>0.975]</th>  \n",
       "</tr>\n",
       "<tr>\n",
       "  <th>x1</th>  <td>    1.4119</td> <td>    0.041</td> <td>   34.673</td> <td> 0.000</td> <td>    1.332</td> <td>    1.492</td>\n",
       "</tr>\n",
       "<tr>\n",
       "  <th>x2</th>  <td>   17.4704</td> <td>    0.813</td> <td>   21.484</td> <td> 0.000</td> <td>   15.876</td> <td>   19.065</td>\n",
       "</tr>\n",
       "<tr>\n",
       "  <th>x3</th>  <td>   13.2707</td> <td>    0.815</td> <td>   16.281</td> <td> 0.000</td> <td>   11.673</td> <td>   14.869</td>\n",
       "</tr>\n",
       "<tr>\n",
       "  <th>x4</th>  <td>   15.4647</td> <td>    0.813</td> <td>   19.017</td> <td> 0.000</td> <td>   13.870</td> <td>   17.059</td>\n",
       "</tr>\n",
       "<tr>\n",
       "  <th>x5</th>  <td>   12.2682</td> <td>    0.809</td> <td>   15.159</td> <td> 0.000</td> <td>   10.682</td> <td>   13.855</td>\n",
       "</tr>\n",
       "<tr>\n",
       "  <th>x6</th>  <td>   14.1285</td> <td>    0.814</td> <td>   17.355</td> <td> 0.000</td> <td>   12.532</td> <td>   15.725</td>\n",
       "</tr>\n",
       "<tr>\n",
       "  <th>x7</th>  <td>   13.8876</td> <td>    0.815</td> <td>   17.037</td> <td> 0.000</td> <td>   12.290</td> <td>   15.486</td>\n",
       "</tr>\n",
       "<tr>\n",
       "  <th>x8</th>  <td>   14.0806</td> <td>    0.817</td> <td>   17.232</td> <td> 0.000</td> <td>   12.479</td> <td>   15.683</td>\n",
       "</tr>\n",
       "<tr>\n",
       "  <th>x9</th>  <td>   60.7649</td> <td>    1.393</td> <td>   43.616</td> <td> 0.000</td> <td>   58.034</td> <td>   63.496</td>\n",
       "</tr>\n",
       "<tr>\n",
       "  <th>x10</th> <td>  113.8006</td> <td>    1.393</td> <td>   81.684</td> <td> 0.000</td> <td>  111.069</td> <td>  116.532</td>\n",
       "</tr>\n",
       "<tr>\n",
       "  <th>x11</th> <td>  -26.1413</td> <td>    1.474</td> <td>  -17.729</td> <td> 0.000</td> <td>  -29.032</td> <td>  -23.250</td>\n",
       "</tr>\n",
       "<tr>\n",
       "  <th>x12</th> <td>  -11.3363</td> <td>    1.393</td> <td>   -8.137</td> <td> 0.000</td> <td>  -14.068</td> <td>   -8.605</td>\n",
       "</tr>\n",
       "<tr>\n",
       "  <th>x13</th> <td>   12.9018</td> <td>    1.393</td> <td>    9.261</td> <td> 0.000</td> <td>   10.170</td> <td>   15.633</td>\n",
       "</tr>\n",
       "<tr>\n",
       "  <th>x14</th> <td>   -7.8244</td> <td>    1.393</td> <td>   -5.616</td> <td> 0.000</td> <td>  -10.556</td> <td>   -5.093</td>\n",
       "</tr>\n",
       "<tr>\n",
       "  <th>x15</th> <td>   35.1161</td> <td>    1.393</td> <td>   25.206</td> <td> 0.000</td> <td>   32.385</td> <td>   37.847</td>\n",
       "</tr>\n",
       "<tr>\n",
       "  <th>x16</th> <td>   51.0625</td> <td>    1.393</td> <td>   36.652</td> <td> 0.000</td> <td>   48.331</td> <td>   53.794</td>\n",
       "</tr>\n",
       "<tr>\n",
       "  <th>x17</th> <td>  -13.1844</td> <td>    1.410</td> <td>   -9.349</td> <td> 0.000</td> <td>  -15.949</td> <td>  -10.420</td>\n",
       "</tr>\n",
       "<tr>\n",
       "  <th>x18</th> <td>    9.2530</td> <td>    1.393</td> <td>    6.642</td> <td> 0.000</td> <td>    6.522</td> <td>   11.984</td>\n",
       "</tr>\n",
       "<tr>\n",
       "  <th>x19</th> <td>   -1.1756</td> <td>    1.393</td> <td>   -0.844</td> <td> 0.399</td> <td>   -3.907</td> <td>    1.556</td>\n",
       "</tr>\n",
       "<tr>\n",
       "  <th>x20</th> <td>    7.2173</td> <td>    1.393</td> <td>    5.180</td> <td> 0.000</td> <td>    4.486</td> <td>    9.949</td>\n",
       "</tr>\n",
       "<tr>\n",
       "  <th>x21</th> <td>  -14.4038</td> <td>    1.402</td> <td>  -10.277</td> <td> 0.000</td> <td>  -17.152</td> <td>  -11.656</td>\n",
       "</tr>\n",
       "<tr>\n",
       "  <th>x22</th> <td>    3.0863</td> <td>    1.393</td> <td>    2.215</td> <td> 0.027</td> <td>    0.355</td> <td>    5.818</td>\n",
       "</tr>\n",
       "<tr>\n",
       "  <th>x23</th> <td>   -6.7529</td> <td>    1.393</td> <td>   -4.847</td> <td> 0.000</td> <td>   -9.484</td> <td>   -4.022</td>\n",
       "</tr>\n",
       "<tr>\n",
       "  <th>x24</th> <td>  -11.1970</td> <td>    1.406</td> <td>   -7.965</td> <td> 0.000</td> <td>  -13.953</td> <td>   -8.441</td>\n",
       "</tr>\n",
       "<tr>\n",
       "  <th>x25</th> <td>   -2.2113</td> <td>    1.393</td> <td>   -1.587</td> <td> 0.113</td> <td>   -4.943</td> <td>    0.520</td>\n",
       "</tr>\n",
       "<tr>\n",
       "  <th>x26</th> <td>   -8.8429</td> <td>    1.397</td> <td>   -6.328</td> <td> 0.000</td> <td>  -11.582</td> <td>   -6.103</td>\n",
       "</tr>\n",
       "<tr>\n",
       "  <th>x27</th> <td>   20.7411</td> <td>    1.393</td> <td>   14.888</td> <td> 0.000</td> <td>   18.010</td> <td>   23.472</td>\n",
       "</tr>\n",
       "<tr>\n",
       "  <th>x28</th> <td>  -23.5779</td> <td>    1.432</td> <td>  -16.462</td> <td> 0.000</td> <td>  -26.386</td> <td>  -20.770</td>\n",
       "</tr>\n",
       "<tr>\n",
       "  <th>x29</th> <td>  -29.4819</td> <td>    1.658</td> <td>  -17.786</td> <td> 0.000</td> <td>  -32.732</td> <td>  -26.232</td>\n",
       "</tr>\n",
       "<tr>\n",
       "  <th>x30</th> <td>  -18.0510</td> <td>    1.410</td> <td>  -12.802</td> <td> 0.000</td> <td>  -20.815</td> <td>  -15.287</td>\n",
       "</tr>\n",
       "<tr>\n",
       "  <th>x31</th> <td>  -11.4256</td> <td>    1.393</td> <td>   -8.201</td> <td> 0.000</td> <td>  -14.157</td> <td>   -8.694</td>\n",
       "</tr>\n",
       "<tr>\n",
       "  <th>x32</th> <td>    7.7113</td> <td>    1.393</td> <td>    5.535</td> <td> 0.000</td> <td>    4.980</td> <td>   10.443</td>\n",
       "</tr>\n",
       "<tr>\n",
       "  <th>x33</th> <td>   -9.3663</td> <td>    1.397</td> <td>   -6.703</td> <td> 0.000</td> <td>  -12.106</td> <td>   -6.627</td>\n",
       "</tr>\n",
       "<tr>\n",
       "  <th>x34</th> <td>  -26.1119</td> <td>    1.455</td> <td>  -17.949</td> <td> 0.000</td> <td>  -28.964</td> <td>  -23.260</td>\n",
       "</tr>\n",
       "</table>\n",
       "<table class=\"simpletable\">\n",
       "<tr>\n",
       "  <th>Omnibus:</th>       <td>624.519</td> <th>  Durbin-Watson:     </th> <td>   0.765</td>\n",
       "</tr>\n",
       "<tr>\n",
       "  <th>Prob(Omnibus):</th> <td> 0.000</td>  <th>  Jarque-Bera (JB):  </th> <td>8627.454</td>\n",
       "</tr>\n",
       "<tr>\n",
       "  <th>Skew:</th>          <td>-0.180</td>  <th>  Prob(JB):          </th> <td>    0.00</td>\n",
       "</tr>\n",
       "<tr>\n",
       "  <th>Kurtosis:</th>      <td> 9.961</td>  <th>  Cond. No.          </th> <td>5.06e+16</td>\n",
       "</tr>\n",
       "</table><br/><br/>Notes:<br/>[1] Standard Errors assume that the covariance matrix of the errors is correctly specified.<br/>[2] The smallest eigenvalue is 3.04e-28. This might indicate that there are<br/>strong multicollinearity problems or that the design matrix is singular."
      ],
      "text/latex": [
       "\\begin{center}\n",
       "\\begin{tabular}{lclc}\n",
       "\\toprule\n",
       "\\textbf{Dep. Variable:}    &        y         & \\textbf{  R-squared:         } &     0.759   \\\\\n",
       "\\textbf{Model:}            &       OLS        & \\textbf{  Adj. R-squared:    } &     0.757   \\\\\n",
       "\\textbf{Method:}           &  Least Squares   & \\textbf{  F-statistic:       } &     416.8   \\\\\n",
       "\\textbf{Date:}             & Thu, 02 Oct 2025 & \\textbf{  Prob (F-statistic):} &     0.00    \\\\\n",
       "\\textbf{Time:}             &     10:38:21     & \\textbf{  Log-Likelihood:    } &   -18432.   \\\\\n",
       "\\textbf{No. Observations:} &        4262      & \\textbf{  AIC:               } & 3.693e+04   \\\\\n",
       "\\textbf{Df Residuals:}     &        4229      & \\textbf{  BIC:               } & 3.714e+04   \\\\\n",
       "\\textbf{Df Model:}         &          32      & \\textbf{                     } &             \\\\\n",
       "\\textbf{Covariance Type:}  &    nonrobust     & \\textbf{                     } &             \\\\\n",
       "\\bottomrule\n",
       "\\end{tabular}\n",
       "\\begin{tabular}{lcccccc}\n",
       "             & \\textbf{coef} & \\textbf{std err} & \\textbf{t} & \\textbf{P$> |$t$|$} & \\textbf{[0.025} & \\textbf{0.975]}  \\\\\n",
       "\\midrule\n",
       "\\textbf{x1}  &       1.4119  &        0.041     &    34.673  &         0.000        &        1.332    &        1.492     \\\\\n",
       "\\textbf{x2}  &      17.4704  &        0.813     &    21.484  &         0.000        &       15.876    &       19.065     \\\\\n",
       "\\textbf{x3}  &      13.2707  &        0.815     &    16.281  &         0.000        &       11.673    &       14.869     \\\\\n",
       "\\textbf{x4}  &      15.4647  &        0.813     &    19.017  &         0.000        &       13.870    &       17.059     \\\\\n",
       "\\textbf{x5}  &      12.2682  &        0.809     &    15.159  &         0.000        &       10.682    &       13.855     \\\\\n",
       "\\textbf{x6}  &      14.1285  &        0.814     &    17.355  &         0.000        &       12.532    &       15.725     \\\\\n",
       "\\textbf{x7}  &      13.8876  &        0.815     &    17.037  &         0.000        &       12.290    &       15.486     \\\\\n",
       "\\textbf{x8}  &      14.0806  &        0.817     &    17.232  &         0.000        &       12.479    &       15.683     \\\\\n",
       "\\textbf{x9}  &      60.7649  &        1.393     &    43.616  &         0.000        &       58.034    &       63.496     \\\\\n",
       "\\textbf{x10} &     113.8006  &        1.393     &    81.684  &         0.000        &      111.069    &      116.532     \\\\\n",
       "\\textbf{x11} &     -26.1413  &        1.474     &   -17.729  &         0.000        &      -29.032    &      -23.250     \\\\\n",
       "\\textbf{x12} &     -11.3363  &        1.393     &    -8.137  &         0.000        &      -14.068    &       -8.605     \\\\\n",
       "\\textbf{x13} &      12.9018  &        1.393     &     9.261  &         0.000        &       10.170    &       15.633     \\\\\n",
       "\\textbf{x14} &      -7.8244  &        1.393     &    -5.616  &         0.000        &      -10.556    &       -5.093     \\\\\n",
       "\\textbf{x15} &      35.1161  &        1.393     &    25.206  &         0.000        &       32.385    &       37.847     \\\\\n",
       "\\textbf{x16} &      51.0625  &        1.393     &    36.652  &         0.000        &       48.331    &       53.794     \\\\\n",
       "\\textbf{x17} &     -13.1844  &        1.410     &    -9.349  &         0.000        &      -15.949    &      -10.420     \\\\\n",
       "\\textbf{x18} &       9.2530  &        1.393     &     6.642  &         0.000        &        6.522    &       11.984     \\\\\n",
       "\\textbf{x19} &      -1.1756  &        1.393     &    -0.844  &         0.399        &       -3.907    &        1.556     \\\\\n",
       "\\textbf{x20} &       7.2173  &        1.393     &     5.180  &         0.000        &        4.486    &        9.949     \\\\\n",
       "\\textbf{x21} &     -14.4038  &        1.402     &   -10.277  &         0.000        &      -17.152    &      -11.656     \\\\\n",
       "\\textbf{x22} &       3.0863  &        1.393     &     2.215  &         0.027        &        0.355    &        5.818     \\\\\n",
       "\\textbf{x23} &      -6.7529  &        1.393     &    -4.847  &         0.000        &       -9.484    &       -4.022     \\\\\n",
       "\\textbf{x24} &     -11.1970  &        1.406     &    -7.965  &         0.000        &      -13.953    &       -8.441     \\\\\n",
       "\\textbf{x25} &      -2.2113  &        1.393     &    -1.587  &         0.113        &       -4.943    &        0.520     \\\\\n",
       "\\textbf{x26} &      -8.8429  &        1.397     &    -6.328  &         0.000        &      -11.582    &       -6.103     \\\\\n",
       "\\textbf{x27} &      20.7411  &        1.393     &    14.888  &         0.000        &       18.010    &       23.472     \\\\\n",
       "\\textbf{x28} &     -23.5779  &        1.432     &   -16.462  &         0.000        &      -26.386    &      -20.770     \\\\\n",
       "\\textbf{x29} &     -29.4819  &        1.658     &   -17.786  &         0.000        &      -32.732    &      -26.232     \\\\\n",
       "\\textbf{x30} &     -18.0510  &        1.410     &   -12.802  &         0.000        &      -20.815    &      -15.287     \\\\\n",
       "\\textbf{x31} &     -11.4256  &        1.393     &    -8.201  &         0.000        &      -14.157    &       -8.694     \\\\\n",
       "\\textbf{x32} &       7.7113  &        1.393     &     5.535  &         0.000        &        4.980    &       10.443     \\\\\n",
       "\\textbf{x33} &      -9.3663  &        1.397     &    -6.703  &         0.000        &      -12.106    &       -6.627     \\\\\n",
       "\\textbf{x34} &     -26.1119  &        1.455     &   -17.949  &         0.000        &      -28.964    &      -23.260     \\\\\n",
       "\\bottomrule\n",
       "\\end{tabular}\n",
       "\\begin{tabular}{lclc}\n",
       "\\textbf{Omnibus:}       & 624.519 & \\textbf{  Durbin-Watson:     } &    0.765  \\\\\n",
       "\\textbf{Prob(Omnibus):} &   0.000 & \\textbf{  Jarque-Bera (JB):  } & 8627.454  \\\\\n",
       "\\textbf{Skew:}          &  -0.180 & \\textbf{  Prob(JB):          } &     0.00  \\\\\n",
       "\\textbf{Kurtosis:}      &   9.961 & \\textbf{  Cond. No.          } & 5.06e+16  \\\\\n",
       "\\bottomrule\n",
       "\\end{tabular}\n",
       "%\\caption{OLS Regression Results}\n",
       "\\end{center}\n",
       "\n",
       "Notes: \\newline\n",
       " [1] Standard Errors assume that the covariance matrix of the errors is correctly specified. \\newline\n",
       " [2] The smallest eigenvalue is 3.04e-28. This might indicate that there are \\newline\n",
       " strong multicollinearity problems or that the design matrix is singular."
      ],
      "text/plain": [
       "<class 'statsmodels.iolib.summary.Summary'>\n",
       "\"\"\"\n",
       "                            OLS Regression Results                            \n",
       "==============================================================================\n",
       "Dep. Variable:                      y   R-squared:                       0.759\n",
       "Model:                            OLS   Adj. R-squared:                  0.757\n",
       "Method:                 Least Squares   F-statistic:                     416.8\n",
       "Date:                Thu, 02 Oct 2025   Prob (F-statistic):               0.00\n",
       "Time:                        10:38:21   Log-Likelihood:                -18432.\n",
       "No. Observations:                4262   AIC:                         3.693e+04\n",
       "Df Residuals:                    4229   BIC:                         3.714e+04\n",
       "Df Model:                          32                                         \n",
       "Covariance Type:            nonrobust                                         \n",
       "==============================================================================\n",
       "                 coef    std err          t      P>|t|      [0.025      0.975]\n",
       "------------------------------------------------------------------------------\n",
       "x1             1.4119      0.041     34.673      0.000       1.332       1.492\n",
       "x2            17.4704      0.813     21.484      0.000      15.876      19.065\n",
       "x3            13.2707      0.815     16.281      0.000      11.673      14.869\n",
       "x4            15.4647      0.813     19.017      0.000      13.870      17.059\n",
       "x5            12.2682      0.809     15.159      0.000      10.682      13.855\n",
       "x6            14.1285      0.814     17.355      0.000      12.532      15.725\n",
       "x7            13.8876      0.815     17.037      0.000      12.290      15.486\n",
       "x8            14.0806      0.817     17.232      0.000      12.479      15.683\n",
       "x9            60.7649      1.393     43.616      0.000      58.034      63.496\n",
       "x10          113.8006      1.393     81.684      0.000     111.069     116.532\n",
       "x11          -26.1413      1.474    -17.729      0.000     -29.032     -23.250\n",
       "x12          -11.3363      1.393     -8.137      0.000     -14.068      -8.605\n",
       "x13           12.9018      1.393      9.261      0.000      10.170      15.633\n",
       "x14           -7.8244      1.393     -5.616      0.000     -10.556      -5.093\n",
       "x15           35.1161      1.393     25.206      0.000      32.385      37.847\n",
       "x16           51.0625      1.393     36.652      0.000      48.331      53.794\n",
       "x17          -13.1844      1.410     -9.349      0.000     -15.949     -10.420\n",
       "x18            9.2530      1.393      6.642      0.000       6.522      11.984\n",
       "x19           -1.1756      1.393     -0.844      0.399      -3.907       1.556\n",
       "x20            7.2173      1.393      5.180      0.000       4.486       9.949\n",
       "x21          -14.4038      1.402    -10.277      0.000     -17.152     -11.656\n",
       "x22            3.0863      1.393      2.215      0.027       0.355       5.818\n",
       "x23           -6.7529      1.393     -4.847      0.000      -9.484      -4.022\n",
       "x24          -11.1970      1.406     -7.965      0.000     -13.953      -8.441\n",
       "x25           -2.2113      1.393     -1.587      0.113      -4.943       0.520\n",
       "x26           -8.8429      1.397     -6.328      0.000     -11.582      -6.103\n",
       "x27           20.7411      1.393     14.888      0.000      18.010      23.472\n",
       "x28          -23.5779      1.432    -16.462      0.000     -26.386     -20.770\n",
       "x29          -29.4819      1.658    -17.786      0.000     -32.732     -26.232\n",
       "x30          -18.0510      1.410    -12.802      0.000     -20.815     -15.287\n",
       "x31          -11.4256      1.393     -8.201      0.000     -14.157      -8.694\n",
       "x32            7.7113      1.393      5.535      0.000       4.980      10.443\n",
       "x33           -9.3663      1.397     -6.703      0.000     -12.106      -6.627\n",
       "x34          -26.1119      1.455    -17.949      0.000     -28.964     -23.260\n",
       "==============================================================================\n",
       "Omnibus:                      624.519   Durbin-Watson:                   0.765\n",
       "Prob(Omnibus):                  0.000   Jarque-Bera (JB):             8627.454\n",
       "Skew:                          -0.180   Prob(JB):                         0.00\n",
       "Kurtosis:                       9.961   Cond. No.                     5.06e+16\n",
       "==============================================================================\n",
       "\n",
       "Notes:\n",
       "[1] Standard Errors assume that the covariance matrix of the errors is correctly specified.\n",
       "[2] The smallest eigenvalue is 3.04e-28. This might indicate that there are\n",
       "strong multicollinearity problems or that the design matrix is singular.\n",
       "\"\"\""
      ]
     },
     "execution_count": 19,
     "metadata": {},
     "output_type": "execute_result"
    }
   ],
   "source": [
    "results.summary()"
   ]
  },
  {
   "cell_type": "markdown",
   "metadata": {},
   "source": [
    "# Test it with new 2017 data"
   ]
  },
  {
   "cell_type": "markdown",
   "metadata": {},
   "source": [
    "### Find the zip codes for each incident given the latitude and longitude"
   ]
  },
  {
   "cell_type": "code",
   "execution_count": 20,
   "metadata": {
    "collapsed": false,
    "jupyter": {
     "outputs_hidden": false
    },
    "scrolled": true
   },
   "outputs": [],
   "source": [
    "crime17['geometry'] = crime17.apply(lambda row: Point(row['X'], row['Y']), axis=1)"
   ]
  },
  {
   "cell_type": "code",
   "execution_count": 21,
   "metadata": {},
   "outputs": [
    {
     "data": {
      "text/html": [
       "<div>\n",
       "<style scoped>\n",
       "    .dataframe tbody tr th:only-of-type {\n",
       "        vertical-align: middle;\n",
       "    }\n",
       "\n",
       "    .dataframe tbody tr th {\n",
       "        vertical-align: top;\n",
       "    }\n",
       "\n",
       "    .dataframe thead th {\n",
       "        text-align: right;\n",
       "    }\n",
       "</style>\n",
       "<table border=\"1\" class=\"dataframe\">\n",
       "  <thead>\n",
       "    <tr style=\"text-align: right;\">\n",
       "      <th></th>\n",
       "      <th>IncidntNum</th>\n",
       "      <th>Category</th>\n",
       "      <th>Descript</th>\n",
       "      <th>DayOfWeek</th>\n",
       "      <th>Date</th>\n",
       "      <th>Time</th>\n",
       "      <th>PdDistrict</th>\n",
       "      <th>Resolution</th>\n",
       "      <th>Address</th>\n",
       "      <th>X</th>\n",
       "      <th>Y</th>\n",
       "      <th>Location</th>\n",
       "      <th>PdId</th>\n",
       "      <th>geometry</th>\n",
       "    </tr>\n",
       "  </thead>\n",
       "  <tbody>\n",
       "    <tr>\n",
       "      <th>0</th>\n",
       "      <td>150333505</td>\n",
       "      <td>WARRANTS</td>\n",
       "      <td>WARRANT ARREST</td>\n",
       "      <td>Wednesday</td>\n",
       "      <td>04/19/2017</td>\n",
       "      <td>21:29</td>\n",
       "      <td>MISSION</td>\n",
       "      <td>ARREST, BOOKED</td>\n",
       "      <td>24TH ST / BRYANT ST</td>\n",
       "      <td>-122.409132</td>\n",
       "      <td>37.752797</td>\n",
       "      <td>(37.752796998558445, -122.40913193948903)</td>\n",
       "      <td>15033350563010</td>\n",
       "      <td>POINT (-122.40913 37.7528)</td>\n",
       "    </tr>\n",
       "    <tr>\n",
       "      <th>1</th>\n",
       "      <td>141091334</td>\n",
       "      <td>BURGLARY</td>\n",
       "      <td>BURGLARY OF STORE, FORCIBLE ENTRY</td>\n",
       "      <td>Wednesday</td>\n",
       "      <td>03/08/2017</td>\n",
       "      <td>14:28</td>\n",
       "      <td>SOUTHERN</td>\n",
       "      <td>NONE</td>\n",
       "      <td>800 Block of BRYANT ST</td>\n",
       "      <td>-122.403405</td>\n",
       "      <td>37.775421</td>\n",
       "      <td>(37.775420706711, -122.40340479147905)</td>\n",
       "      <td>14109133405051</td>\n",
       "      <td>POINT (-122.4034 37.77542)</td>\n",
       "    </tr>\n",
       "    <tr>\n",
       "      <th>2</th>\n",
       "      <td>160913272</td>\n",
       "      <td>SUSPICIOUS OCC</td>\n",
       "      <td>SUSPICIOUS OCCURRENCE</td>\n",
       "      <td>Tuesday</td>\n",
       "      <td>09/12/2017</td>\n",
       "      <td>09:00</td>\n",
       "      <td>MISSION</td>\n",
       "      <td>UNFOUNDED</td>\n",
       "      <td>2700 Block of 16TH ST</td>\n",
       "      <td>-122.414223</td>\n",
       "      <td>37.765325</td>\n",
       "      <td>(37.76532508532617, -122.414222704763)</td>\n",
       "      <td>16091327264070</td>\n",
       "      <td>POINT (-122.41422 37.76533)</td>\n",
       "    </tr>\n",
       "    <tr>\n",
       "      <th>3</th>\n",
       "      <td>150045716</td>\n",
       "      <td>WEAPON LAWS</td>\n",
       "      <td>POSS OF FIREARM BY CONVICTED FELON/ADDICT/ALIEN</td>\n",
       "      <td>Thursday</td>\n",
       "      <td>06/01/2017</td>\n",
       "      <td>08:51</td>\n",
       "      <td>INGLESIDE</td>\n",
       "      <td>ARREST, BOOKED</td>\n",
       "      <td>100 Block of BALTIMORE WY</td>\n",
       "      <td>-122.431842</td>\n",
       "      <td>37.709107</td>\n",
       "      <td>(37.70910662750824, -122.43184152371002)</td>\n",
       "      <td>15004571612080</td>\n",
       "      <td>POINT (-122.43184 37.70911)</td>\n",
       "    </tr>\n",
       "    <tr>\n",
       "      <th>4</th>\n",
       "      <td>150333505</td>\n",
       "      <td>WEAPON LAWS</td>\n",
       "      <td>POSS OF FIREARM BY CONVICTED FELON/ADDICT/ALIEN</td>\n",
       "      <td>Wednesday</td>\n",
       "      <td>04/19/2017</td>\n",
       "      <td>21:29</td>\n",
       "      <td>MISSION</td>\n",
       "      <td>ARREST, BOOKED</td>\n",
       "      <td>24TH ST / BRYANT ST</td>\n",
       "      <td>-122.409132</td>\n",
       "      <td>37.752797</td>\n",
       "      <td>(37.752796998558445, -122.40913193948903)</td>\n",
       "      <td>15033350512080</td>\n",
       "      <td>POINT (-122.40913 37.7528)</td>\n",
       "    </tr>\n",
       "    <tr>\n",
       "      <th>...</th>\n",
       "      <td>...</td>\n",
       "      <td>...</td>\n",
       "      <td>...</td>\n",
       "      <td>...</td>\n",
       "      <td>...</td>\n",
       "      <td>...</td>\n",
       "      <td>...</td>\n",
       "      <td>...</td>\n",
       "      <td>...</td>\n",
       "      <td>...</td>\n",
       "      <td>...</td>\n",
       "      <td>...</td>\n",
       "      <td>...</td>\n",
       "      <td>...</td>\n",
       "    </tr>\n",
       "    <tr>\n",
       "      <th>121699</th>\n",
       "      <td>170106724</td>\n",
       "      <td>ASSAULT</td>\n",
       "      <td>BATTERY</td>\n",
       "      <td>Tuesday</td>\n",
       "      <td>02/07/2017</td>\n",
       "      <td>10:08</td>\n",
       "      <td>TENDERLOIN</td>\n",
       "      <td>NONE</td>\n",
       "      <td>TURK ST / HYDE ST</td>\n",
       "      <td>-122.415695</td>\n",
       "      <td>37.782585</td>\n",
       "      <td>(37.78258519684673, -122.41569492213362)</td>\n",
       "      <td>17010672404134</td>\n",
       "      <td>POINT (-122.41569 37.78259)</td>\n",
       "    </tr>\n",
       "    <tr>\n",
       "      <th>121700</th>\n",
       "      <td>170115747</td>\n",
       "      <td>ASSAULT</td>\n",
       "      <td>BATTERY</td>\n",
       "      <td>Friday</td>\n",
       "      <td>02/10/2017</td>\n",
       "      <td>10:28</td>\n",
       "      <td>MISSION</td>\n",
       "      <td>NONE</td>\n",
       "      <td>1600 Block of BRYANT ST</td>\n",
       "      <td>-122.410478</td>\n",
       "      <td>37.766246</td>\n",
       "      <td>(37.76624632091369, -122.41047806948747)</td>\n",
       "      <td>17011574704134</td>\n",
       "      <td>POINT (-122.41048 37.76625)</td>\n",
       "    </tr>\n",
       "    <tr>\n",
       "      <th>121701</th>\n",
       "      <td>170177565</td>\n",
       "      <td>ASSAULT</td>\n",
       "      <td>BATTERY</td>\n",
       "      <td>Wednesday</td>\n",
       "      <td>03/01/2017</td>\n",
       "      <td>00:01</td>\n",
       "      <td>SOUTHERN</td>\n",
       "      <td>NONE</td>\n",
       "      <td>MISSION ST / 4TH ST</td>\n",
       "      <td>-122.404270</td>\n",
       "      <td>37.784479</td>\n",
       "      <td>(37.784478853874475, -122.40427017948574)</td>\n",
       "      <td>17017756504134</td>\n",
       "      <td>POINT (-122.40427 37.78448)</td>\n",
       "    </tr>\n",
       "    <tr>\n",
       "      <th>121702</th>\n",
       "      <td>170183506</td>\n",
       "      <td>VEHICLE THEFT</td>\n",
       "      <td>STOLEN TRUCK</td>\n",
       "      <td>Friday</td>\n",
       "      <td>03/03/2017</td>\n",
       "      <td>20:30</td>\n",
       "      <td>PARK</td>\n",
       "      <td>NONE</td>\n",
       "      <td>1400 Block of GROVE ST</td>\n",
       "      <td>-122.440483</td>\n",
       "      <td>37.775553</td>\n",
       "      <td>(37.77555290168326, -122.44048310699829)</td>\n",
       "      <td>17018350607025</td>\n",
       "      <td>POINT (-122.44048 37.77555)</td>\n",
       "    </tr>\n",
       "    <tr>\n",
       "      <th>121703</th>\n",
       "      <td>179001133</td>\n",
       "      <td>ASSAULT</td>\n",
       "      <td>CHILD ABUSE (PHYSICAL)</td>\n",
       "      <td>Monday</td>\n",
       "      <td>01/30/2017</td>\n",
       "      <td>12:30</td>\n",
       "      <td>TENDERLOIN</td>\n",
       "      <td>NONE</td>\n",
       "      <td>200 Block of TURK ST</td>\n",
       "      <td>-122.413238</td>\n",
       "      <td>37.782843</td>\n",
       "      <td>(37.7828430233213, -122.41323751667596)</td>\n",
       "      <td>17900113315015</td>\n",
       "      <td>POINT (-122.41324 37.78284)</td>\n",
       "    </tr>\n",
       "  </tbody>\n",
       "</table>\n",
       "<p>121704 rows × 14 columns</p>\n",
       "</div>"
      ],
      "text/plain": [
       "        IncidntNum        Category  \\\n",
       "0        150333505        WARRANTS   \n",
       "1        141091334        BURGLARY   \n",
       "2        160913272  SUSPICIOUS OCC   \n",
       "3        150045716     WEAPON LAWS   \n",
       "4        150333505     WEAPON LAWS   \n",
       "...            ...             ...   \n",
       "121699   170106724         ASSAULT   \n",
       "121700   170115747         ASSAULT   \n",
       "121701   170177565         ASSAULT   \n",
       "121702   170183506   VEHICLE THEFT   \n",
       "121703   179001133         ASSAULT   \n",
       "\n",
       "                                               Descript  DayOfWeek  \\\n",
       "0                                        WARRANT ARREST  Wednesday   \n",
       "1                     BURGLARY OF STORE, FORCIBLE ENTRY  Wednesday   \n",
       "2                                 SUSPICIOUS OCCURRENCE    Tuesday   \n",
       "3       POSS OF FIREARM BY CONVICTED FELON/ADDICT/ALIEN   Thursday   \n",
       "4       POSS OF FIREARM BY CONVICTED FELON/ADDICT/ALIEN  Wednesday   \n",
       "...                                                 ...        ...   \n",
       "121699                                          BATTERY    Tuesday   \n",
       "121700                                          BATTERY     Friday   \n",
       "121701                                          BATTERY  Wednesday   \n",
       "121702                                     STOLEN TRUCK     Friday   \n",
       "121703                           CHILD ABUSE (PHYSICAL)     Monday   \n",
       "\n",
       "              Date   Time  PdDistrict      Resolution  \\\n",
       "0       04/19/2017  21:29     MISSION  ARREST, BOOKED   \n",
       "1       03/08/2017  14:28    SOUTHERN            NONE   \n",
       "2       09/12/2017  09:00     MISSION       UNFOUNDED   \n",
       "3       06/01/2017  08:51   INGLESIDE  ARREST, BOOKED   \n",
       "4       04/19/2017  21:29     MISSION  ARREST, BOOKED   \n",
       "...            ...    ...         ...             ...   \n",
       "121699  02/07/2017  10:08  TENDERLOIN            NONE   \n",
       "121700  02/10/2017  10:28     MISSION            NONE   \n",
       "121701  03/01/2017  00:01    SOUTHERN            NONE   \n",
       "121702  03/03/2017  20:30        PARK            NONE   \n",
       "121703  01/30/2017  12:30  TENDERLOIN            NONE   \n",
       "\n",
       "                          Address           X          Y  \\\n",
       "0             24TH ST / BRYANT ST -122.409132  37.752797   \n",
       "1          800 Block of BRYANT ST -122.403405  37.775421   \n",
       "2           2700 Block of 16TH ST -122.414223  37.765325   \n",
       "3       100 Block of BALTIMORE WY -122.431842  37.709107   \n",
       "4             24TH ST / BRYANT ST -122.409132  37.752797   \n",
       "...                           ...         ...        ...   \n",
       "121699          TURK ST / HYDE ST -122.415695  37.782585   \n",
       "121700    1600 Block of BRYANT ST -122.410478  37.766246   \n",
       "121701        MISSION ST / 4TH ST -122.404270  37.784479   \n",
       "121702     1400 Block of GROVE ST -122.440483  37.775553   \n",
       "121703       200 Block of TURK ST -122.413238  37.782843   \n",
       "\n",
       "                                         Location            PdId  \\\n",
       "0       (37.752796998558445, -122.40913193948903)  15033350563010   \n",
       "1          (37.775420706711, -122.40340479147905)  14109133405051   \n",
       "2          (37.76532508532617, -122.414222704763)  16091327264070   \n",
       "3        (37.70910662750824, -122.43184152371002)  15004571612080   \n",
       "4       (37.752796998558445, -122.40913193948903)  15033350512080   \n",
       "...                                           ...             ...   \n",
       "121699   (37.78258519684673, -122.41569492213362)  17010672404134   \n",
       "121700   (37.76624632091369, -122.41047806948747)  17011574704134   \n",
       "121701  (37.784478853874475, -122.40427017948574)  17017756504134   \n",
       "121702   (37.77555290168326, -122.44048310699829)  17018350607025   \n",
       "121703    (37.7828430233213, -122.41323751667596)  17900113315015   \n",
       "\n",
       "                           geometry  \n",
       "0        POINT (-122.40913 37.7528)  \n",
       "1        POINT (-122.4034 37.77542)  \n",
       "2       POINT (-122.41422 37.76533)  \n",
       "3       POINT (-122.43184 37.70911)  \n",
       "4        POINT (-122.40913 37.7528)  \n",
       "...                             ...  \n",
       "121699  POINT (-122.41569 37.78259)  \n",
       "121700  POINT (-122.41048 37.76625)  \n",
       "121701  POINT (-122.40427 37.78448)  \n",
       "121702  POINT (-122.44048 37.77555)  \n",
       "121703  POINT (-122.41324 37.78284)  \n",
       "\n",
       "[121704 rows x 14 columns]"
      ]
     },
     "execution_count": 21,
     "metadata": {},
     "output_type": "execute_result"
    }
   ],
   "source": [
    "geo_police_data = geopandas.GeoDataFrame(crime17, geometry='geometry')\n",
    "#geo_police_data.crs = {'init': 'epsg:4326'}\n",
    "geo_police_data.set_crs(\"EPSG:4326\", inplace=True)"
   ]
  },
  {
   "cell_type": "code",
   "execution_count": 22,
   "metadata": {},
   "outputs": [],
   "source": [
    "sf = geopandas.read_file('zipcodes_geo.json') #correct the file name\n",
    "#sf.crs = {'init': 'epsg:4326'}\n",
    "sf.set_crs(\"EPSG:4326\", inplace=True)\n",
    "sf = sf.set_geometry('geometry')"
   ]
  },
  {
   "cell_type": "code",
   "execution_count": 23,
   "metadata": {
    "collapsed": false,
    "jupyter": {
     "outputs_hidden": false
    }
   },
   "outputs": [],
   "source": [
    "crime17 = geopandas.tools.sjoin(geo_police_data, sf, how='left')"
   ]
  },
  {
   "cell_type": "markdown",
   "metadata": {},
   "source": [
    "### Find which zip codes, day of week, and hour have the most crimes"
   ]
  },
  {
   "cell_type": "code",
   "execution_count": 24,
   "metadata": {
    "collapsed": false,
    "jupyter": {
     "outputs_hidden": false
    }
   },
   "outputs": [],
   "source": [
    "day_time_zip_17 = crime17[['DayOfWeek', 'Time', 'zip']]"
   ]
  },
  {
   "cell_type": "code",
   "execution_count": 25,
   "metadata": {
    "collapsed": false,
    "jupyter": {
     "outputs_hidden": false
    }
   },
   "outputs": [],
   "source": [
    "#day_time_zip_17['Hour'] = pd.to_datetime(day_time_zip_17['Time'])\n",
    "#day_time_zip_17['Hour'] = day_time_zip_17.Hour.apply(lambda x: x.hour)\n",
    "\n",
    "# Parse the 'Time' column with specified format\n",
    "day_time_zip_17['Parsed_Time'] = pd.to_datetime(day_time_zip_17['Time'], format='%H:%M', errors='coerce')\n",
    "\n",
    "# Extract hour as nullable integer\n",
    "day_time_zip_17['Hour'] = day_time_zip_17['Parsed_Time'].dt.hour.astype('Int64')  # Nullable integer type"
   ]
  },
  {
   "cell_type": "markdown",
   "metadata": {},
   "source": [
    "## Combine all the crimes into hours and days and zip codes"
   ]
  },
  {
   "cell_type": "code",
   "execution_count": 26,
   "metadata": {
    "collapsed": false,
    "jupyter": {
     "outputs_hidden": false
    }
   },
   "outputs": [],
   "source": [
    "day_time_zip_17 = day_time_zip_17[['DayOfWeek', 'zip', 'Hour']]"
   ]
  },
  {
   "cell_type": "code",
   "execution_count": 27,
   "metadata": {
    "collapsed": false,
    "jupyter": {
     "outputs_hidden": false
    }
   },
   "outputs": [],
   "source": [
    "day_time_zip_17['Crimes'] = 1"
   ]
  },
  {
   "cell_type": "code",
   "execution_count": 28,
   "metadata": {
    "collapsed": false,
    "jupyter": {
     "outputs_hidden": false
    }
   },
   "outputs": [],
   "source": [
    "hour_totals_17 = day_time_zip_17.groupby(['DayOfWeek', 'zip', 'Hour']).count().reset_index()"
   ]
  },
  {
   "cell_type": "code",
   "execution_count": 29,
   "metadata": {
    "collapsed": false,
    "jupyter": {
     "outputs_hidden": false
    },
    "scrolled": true
   },
   "outputs": [
    {
     "data": {
      "text/html": [
       "<div>\n",
       "<style scoped>\n",
       "    .dataframe tbody tr th:only-of-type {\n",
       "        vertical-align: middle;\n",
       "    }\n",
       "\n",
       "    .dataframe tbody tr th {\n",
       "        vertical-align: top;\n",
       "    }\n",
       "\n",
       "    .dataframe thead th {\n",
       "        text-align: right;\n",
       "    }\n",
       "</style>\n",
       "<table border=\"1\" class=\"dataframe\">\n",
       "  <thead>\n",
       "    <tr style=\"text-align: right;\">\n",
       "      <th></th>\n",
       "      <th>DayOfWeek</th>\n",
       "      <th>zip</th>\n",
       "      <th>Hour</th>\n",
       "      <th>Crimes</th>\n",
       "    </tr>\n",
       "  </thead>\n",
       "  <tbody>\n",
       "    <tr>\n",
       "      <th>2465</th>\n",
       "      <td>Thursday</td>\n",
       "      <td>94103</td>\n",
       "      <td>18</td>\n",
       "      <td>227</td>\n",
       "    </tr>\n",
       "    <tr>\n",
       "      <th>2466</th>\n",
       "      <td>Thursday</td>\n",
       "      <td>94103</td>\n",
       "      <td>19</td>\n",
       "      <td>220</td>\n",
       "    </tr>\n",
       "    <tr>\n",
       "      <th>3067</th>\n",
       "      <td>Tuesday</td>\n",
       "      <td>94103</td>\n",
       "      <td>18</td>\n",
       "      <td>213</td>\n",
       "    </tr>\n",
       "    <tr>\n",
       "      <th>41</th>\n",
       "      <td>Friday</td>\n",
       "      <td>94103</td>\n",
       "      <td>17</td>\n",
       "      <td>213</td>\n",
       "    </tr>\n",
       "    <tr>\n",
       "      <th>44</th>\n",
       "      <td>Friday</td>\n",
       "      <td>94103</td>\n",
       "      <td>20</td>\n",
       "      <td>201</td>\n",
       "    </tr>\n",
       "  </tbody>\n",
       "</table>\n",
       "</div>"
      ],
      "text/plain": [
       "     DayOfWeek    zip  Hour  Crimes\n",
       "2465  Thursday  94103    18     227\n",
       "2466  Thursday  94103    19     220\n",
       "3067   Tuesday  94103    18     213\n",
       "41      Friday  94103    17     213\n",
       "44      Friday  94103    20     201"
      ]
     },
     "execution_count": 29,
     "metadata": {},
     "output_type": "execute_result"
    }
   ],
   "source": [
    "hour_totals_17.sort_values('Crimes', ascending = False).head()"
   ]
  },
  {
   "cell_type": "markdown",
   "metadata": {},
   "source": [
    "## Create dummy variables to start doing analysis"
   ]
  },
  {
   "cell_type": "code",
   "execution_count": 30,
   "metadata": {
    "collapsed": false,
    "jupyter": {
     "outputs_hidden": false
    }
   },
   "outputs": [],
   "source": [
    "hour_totals_17 = hour_totals_17[['Crimes', 'Hour', 'DayOfWeek', 'zip']]"
   ]
  },
  {
   "cell_type": "code",
   "execution_count": 31,
   "metadata": {
    "collapsed": false,
    "jupyter": {
     "outputs_hidden": false
    },
    "scrolled": true
   },
   "outputs": [],
   "source": [
    "totals_dummies_17 = pd.get_dummies(hour_totals_17)"
   ]
  },
  {
   "cell_type": "code",
   "execution_count": 32,
   "metadata": {
    "collapsed": false,
    "jupyter": {
     "outputs_hidden": false
    }
   },
   "outputs": [],
   "source": [
    "X_17 = totals_dummies_17.iloc[:, 1:]\n",
    "y_17 = totals_dummies_17.iloc[:, 0]"
   ]
  },
  {
   "cell_type": "markdown",
   "metadata": {},
   "source": [
    "# Testing the different models"
   ]
  },
  {
   "cell_type": "markdown",
   "metadata": {},
   "source": [
    "## Linear Regression"
   ]
  },
  {
   "cell_type": "code",
   "execution_count": 33,
   "metadata": {
    "collapsed": false,
    "jupyter": {
     "outputs_hidden": false
    }
   },
   "outputs": [
    {
     "data": {
      "text/plain": [
       "0.6386917837250607"
      ]
     },
     "execution_count": 33,
     "metadata": {},
     "output_type": "execute_result"
    }
   ],
   "source": [
    "linear_regression = LinearRegression()\n",
    "linear_regression.fit(X_16,y_16)\n",
    "linear_regression.score(X_17, y_17)"
   ]
  },
  {
   "cell_type": "markdown",
   "metadata": {},
   "source": [
    "## Random Forest"
   ]
  },
  {
   "cell_type": "code",
   "execution_count": 34,
   "metadata": {
    "collapsed": false,
    "jupyter": {
     "outputs_hidden": false
    }
   },
   "outputs": [
    {
     "data": {
      "text/plain": [
       "0.809698461446605"
      ]
     },
     "execution_count": 34,
     "metadata": {},
     "output_type": "execute_result"
    }
   ],
   "source": [
    "rf = RandomForestRegressor()\n",
    "rf.fit(X_16, y_16)\n",
    "rf.score(X_17,y_17)"
   ]
  },
  {
   "cell_type": "code",
   "execution_count": 35,
   "metadata": {
    "collapsed": false,
    "jupyter": {
     "outputs_hidden": false
    }
   },
   "outputs": [
    {
     "data": {
      "text/plain": [
       "[('Hour', np.float64(0.24519605421503654)),\n",
       " ('DayOfWeek_Friday', np.float64(0.0070584411180455815)),\n",
       " ('DayOfWeek_Monday', np.float64(0.003989047824958993)),\n",
       " ('DayOfWeek_Saturday', np.float64(0.008641411756635364)),\n",
       " ('DayOfWeek_Sunday', np.float64(0.009264891258531536)),\n",
       " ('DayOfWeek_Thursday', np.float64(0.004115134289804905)),\n",
       " ('DayOfWeek_Tuesday', np.float64(0.0037109451897542095)),\n",
       " ('DayOfWeek_Wednesday', np.float64(0.004757017109189735)),\n",
       " ('zip_94102', np.float64(0.11084574243155691)),\n",
       " ('zip_94103', np.float64(0.34821789624309113)),\n",
       " ('zip_94104', np.float64(0.006739520963184083)),\n",
       " ('zip_94105', np.float64(0.0009510116522002221)),\n",
       " ('zip_94107', np.float64(0.01436717392311866)),\n",
       " ('zip_94108', np.float64(0.0008700954696879686)),\n",
       " ('zip_94109', np.float64(0.048025218699268804)),\n",
       " ('zip_94110', np.float64(0.08458873104070196)),\n",
       " ('zip_94111', np.float64(0.0005355179994983001)),\n",
       " ('zip_94112', np.float64(0.01167808385350532)),\n",
       " ('zip_94114', np.float64(0.0026723419037178175)),\n",
       " ('zip_94115', np.float64(0.01059997002001698)),\n",
       " ('zip_94116', np.float64(0.0006786538091304927)),\n",
       " ('zip_94117', np.float64(0.00797542565079424)),\n",
       " ('zip_94118', np.float64(0.0009523595765074527)),\n",
       " ('zip_94121', np.float64(0.0004803220739409128)),\n",
       " ('zip_94122', np.float64(0.002729848056500255)),\n",
       " ('zip_94123', np.float64(0.0008005891281526587)),\n",
       " ('zip_94124', np.float64(0.024684890406802967)),\n",
       " ('zip_94127', np.float64(0.0061909813849996)),\n",
       " ('zip_94130', np.float64(0.00739584621181706)),\n",
       " ('zip_94131', np.float64(0.0021141906288798962)),\n",
       " ('zip_94132', np.float64(0.0006468607576669191)),\n",
       " ('zip_94133', np.float64(0.01105697019759856)),\n",
       " ('zip_94134', np.float64(0.0006106761878760607)),\n",
       " ('zip_94158', np.float64(0.006858138967828078))]"
      ]
     },
     "execution_count": 35,
     "metadata": {},
     "output_type": "execute_result"
    }
   ],
   "source": [
    "list(zip(X_16.columns, rf.feature_importances_))"
   ]
  },
  {
   "cell_type": "markdown",
   "metadata": {},
   "source": [
    "## KNN"
   ]
  },
  {
   "cell_type": "code",
   "execution_count": 36,
   "metadata": {
    "collapsed": false,
    "jupyter": {
     "outputs_hidden": false
    }
   },
   "outputs": [
    {
     "data": {
      "text/plain": [
       "0.5136868258628171"
      ]
     },
     "execution_count": 36,
     "metadata": {},
     "output_type": "execute_result"
    }
   ],
   "source": [
    "knn = KNeighborsRegressor()\n",
    "knn.fit(X_16, y_16)\n",
    "knn.score(X_17,y_17)"
   ]
  },
  {
   "cell_type": "markdown",
   "metadata": {},
   "source": [
    "## SVM"
   ]
  },
  {
   "cell_type": "code",
   "execution_count": 37,
   "metadata": {
    "collapsed": false,
    "jupyter": {
     "outputs_hidden": false
    }
   },
   "outputs": [
    {
     "data": {
      "text/plain": [
       "0.13401392445832772"
      ]
     },
     "execution_count": 37,
     "metadata": {},
     "output_type": "execute_result"
    }
   ],
   "source": [
    "svm = SVR()\n",
    "svm.fit(X_16, y_16)\n",
    "svm.score(X_17,y_17)"
   ]
  },
  {
   "cell_type": "markdown",
   "metadata": {},
   "source": [
    "## XGBoost"
   ]
  },
  {
   "cell_type": "code",
   "execution_count": 38,
   "metadata": {
    "collapsed": false,
    "jupyter": {
     "outputs_hidden": false
    }
   },
   "outputs": [
    {
     "data": {
      "text/plain": [
       "0.8146436214447021"
      ]
     },
     "execution_count": 38,
     "metadata": {},
     "output_type": "execute_result"
    }
   ],
   "source": [
    "xgb = XGBRegressor()\n",
    "xgb.fit(X_16, y_16)\n",
    "xgb.score(X_17,y_17)"
   ]
  },
  {
   "cell_type": "markdown",
   "metadata": {},
   "source": [
    "## MLP Regressor"
   ]
  },
  {
   "cell_type": "code",
   "execution_count": 39,
   "metadata": {
    "collapsed": false,
    "jupyter": {
     "outputs_hidden": false
    }
   },
   "outputs": [
    {
     "data": {
      "text/html": [
       "<style>#sk-container-id-1 {\n",
       "  /* Definition of color scheme common for light and dark mode */\n",
       "  --sklearn-color-text: #000;\n",
       "  --sklearn-color-text-muted: #666;\n",
       "  --sklearn-color-line: gray;\n",
       "  /* Definition of color scheme for unfitted estimators */\n",
       "  --sklearn-color-unfitted-level-0: #fff5e6;\n",
       "  --sklearn-color-unfitted-level-1: #f6e4d2;\n",
       "  --sklearn-color-unfitted-level-2: #ffe0b3;\n",
       "  --sklearn-color-unfitted-level-3: chocolate;\n",
       "  /* Definition of color scheme for fitted estimators */\n",
       "  --sklearn-color-fitted-level-0: #f0f8ff;\n",
       "  --sklearn-color-fitted-level-1: #d4ebff;\n",
       "  --sklearn-color-fitted-level-2: #b3dbfd;\n",
       "  --sklearn-color-fitted-level-3: cornflowerblue;\n",
       "\n",
       "  /* Specific color for light theme */\n",
       "  --sklearn-color-text-on-default-background: var(--sg-text-color, var(--theme-code-foreground, var(--jp-content-font-color1, black)));\n",
       "  --sklearn-color-background: var(--sg-background-color, var(--theme-background, var(--jp-layout-color0, white)));\n",
       "  --sklearn-color-border-box: var(--sg-text-color, var(--theme-code-foreground, var(--jp-content-font-color1, black)));\n",
       "  --sklearn-color-icon: #696969;\n",
       "\n",
       "  @media (prefers-color-scheme: dark) {\n",
       "    /* Redefinition of color scheme for dark theme */\n",
       "    --sklearn-color-text-on-default-background: var(--sg-text-color, var(--theme-code-foreground, var(--jp-content-font-color1, white)));\n",
       "    --sklearn-color-background: var(--sg-background-color, var(--theme-background, var(--jp-layout-color0, #111)));\n",
       "    --sklearn-color-border-box: var(--sg-text-color, var(--theme-code-foreground, var(--jp-content-font-color1, white)));\n",
       "    --sklearn-color-icon: #878787;\n",
       "  }\n",
       "}\n",
       "\n",
       "#sk-container-id-1 {\n",
       "  color: var(--sklearn-color-text);\n",
       "}\n",
       "\n",
       "#sk-container-id-1 pre {\n",
       "  padding: 0;\n",
       "}\n",
       "\n",
       "#sk-container-id-1 input.sk-hidden--visually {\n",
       "  border: 0;\n",
       "  clip: rect(1px 1px 1px 1px);\n",
       "  clip: rect(1px, 1px, 1px, 1px);\n",
       "  height: 1px;\n",
       "  margin: -1px;\n",
       "  overflow: hidden;\n",
       "  padding: 0;\n",
       "  position: absolute;\n",
       "  width: 1px;\n",
       "}\n",
       "\n",
       "#sk-container-id-1 div.sk-dashed-wrapped {\n",
       "  border: 1px dashed var(--sklearn-color-line);\n",
       "  margin: 0 0.4em 0.5em 0.4em;\n",
       "  box-sizing: border-box;\n",
       "  padding-bottom: 0.4em;\n",
       "  background-color: var(--sklearn-color-background);\n",
       "}\n",
       "\n",
       "#sk-container-id-1 div.sk-container {\n",
       "  /* jupyter's `normalize.less` sets `[hidden] { display: none; }`\n",
       "     but bootstrap.min.css set `[hidden] { display: none !important; }`\n",
       "     so we also need the `!important` here to be able to override the\n",
       "     default hidden behavior on the sphinx rendered scikit-learn.org.\n",
       "     See: https://github.com/scikit-learn/scikit-learn/issues/21755 */\n",
       "  display: inline-block !important;\n",
       "  position: relative;\n",
       "}\n",
       "\n",
       "#sk-container-id-1 div.sk-text-repr-fallback {\n",
       "  display: none;\n",
       "}\n",
       "\n",
       "div.sk-parallel-item,\n",
       "div.sk-serial,\n",
       "div.sk-item {\n",
       "  /* draw centered vertical line to link estimators */\n",
       "  background-image: linear-gradient(var(--sklearn-color-text-on-default-background), var(--sklearn-color-text-on-default-background));\n",
       "  background-size: 2px 100%;\n",
       "  background-repeat: no-repeat;\n",
       "  background-position: center center;\n",
       "}\n",
       "\n",
       "/* Parallel-specific style estimator block */\n",
       "\n",
       "#sk-container-id-1 div.sk-parallel-item::after {\n",
       "  content: \"\";\n",
       "  width: 100%;\n",
       "  border-bottom: 2px solid var(--sklearn-color-text-on-default-background);\n",
       "  flex-grow: 1;\n",
       "}\n",
       "\n",
       "#sk-container-id-1 div.sk-parallel {\n",
       "  display: flex;\n",
       "  align-items: stretch;\n",
       "  justify-content: center;\n",
       "  background-color: var(--sklearn-color-background);\n",
       "  position: relative;\n",
       "}\n",
       "\n",
       "#sk-container-id-1 div.sk-parallel-item {\n",
       "  display: flex;\n",
       "  flex-direction: column;\n",
       "}\n",
       "\n",
       "#sk-container-id-1 div.sk-parallel-item:first-child::after {\n",
       "  align-self: flex-end;\n",
       "  width: 50%;\n",
       "}\n",
       "\n",
       "#sk-container-id-1 div.sk-parallel-item:last-child::after {\n",
       "  align-self: flex-start;\n",
       "  width: 50%;\n",
       "}\n",
       "\n",
       "#sk-container-id-1 div.sk-parallel-item:only-child::after {\n",
       "  width: 0;\n",
       "}\n",
       "\n",
       "/* Serial-specific style estimator block */\n",
       "\n",
       "#sk-container-id-1 div.sk-serial {\n",
       "  display: flex;\n",
       "  flex-direction: column;\n",
       "  align-items: center;\n",
       "  background-color: var(--sklearn-color-background);\n",
       "  padding-right: 1em;\n",
       "  padding-left: 1em;\n",
       "}\n",
       "\n",
       "\n",
       "/* Toggleable style: style used for estimator/Pipeline/ColumnTransformer box that is\n",
       "clickable and can be expanded/collapsed.\n",
       "- Pipeline and ColumnTransformer use this feature and define the default style\n",
       "- Estimators will overwrite some part of the style using the `sk-estimator` class\n",
       "*/\n",
       "\n",
       "/* Pipeline and ColumnTransformer style (default) */\n",
       "\n",
       "#sk-container-id-1 div.sk-toggleable {\n",
       "  /* Default theme specific background. It is overwritten whether we have a\n",
       "  specific estimator or a Pipeline/ColumnTransformer */\n",
       "  background-color: var(--sklearn-color-background);\n",
       "}\n",
       "\n",
       "/* Toggleable label */\n",
       "#sk-container-id-1 label.sk-toggleable__label {\n",
       "  cursor: pointer;\n",
       "  display: flex;\n",
       "  width: 100%;\n",
       "  margin-bottom: 0;\n",
       "  padding: 0.5em;\n",
       "  box-sizing: border-box;\n",
       "  text-align: center;\n",
       "  align-items: start;\n",
       "  justify-content: space-between;\n",
       "  gap: 0.5em;\n",
       "}\n",
       "\n",
       "#sk-container-id-1 label.sk-toggleable__label .caption {\n",
       "  font-size: 0.6rem;\n",
       "  font-weight: lighter;\n",
       "  color: var(--sklearn-color-text-muted);\n",
       "}\n",
       "\n",
       "#sk-container-id-1 label.sk-toggleable__label-arrow:before {\n",
       "  /* Arrow on the left of the label */\n",
       "  content: \"▸\";\n",
       "  float: left;\n",
       "  margin-right: 0.25em;\n",
       "  color: var(--sklearn-color-icon);\n",
       "}\n",
       "\n",
       "#sk-container-id-1 label.sk-toggleable__label-arrow:hover:before {\n",
       "  color: var(--sklearn-color-text);\n",
       "}\n",
       "\n",
       "/* Toggleable content - dropdown */\n",
       "\n",
       "#sk-container-id-1 div.sk-toggleable__content {\n",
       "  max-height: 0;\n",
       "  max-width: 0;\n",
       "  overflow: hidden;\n",
       "  text-align: left;\n",
       "  /* unfitted */\n",
       "  background-color: var(--sklearn-color-unfitted-level-0);\n",
       "}\n",
       "\n",
       "#sk-container-id-1 div.sk-toggleable__content.fitted {\n",
       "  /* fitted */\n",
       "  background-color: var(--sklearn-color-fitted-level-0);\n",
       "}\n",
       "\n",
       "#sk-container-id-1 div.sk-toggleable__content pre {\n",
       "  margin: 0.2em;\n",
       "  border-radius: 0.25em;\n",
       "  color: var(--sklearn-color-text);\n",
       "  /* unfitted */\n",
       "  background-color: var(--sklearn-color-unfitted-level-0);\n",
       "}\n",
       "\n",
       "#sk-container-id-1 div.sk-toggleable__content.fitted pre {\n",
       "  /* unfitted */\n",
       "  background-color: var(--sklearn-color-fitted-level-0);\n",
       "}\n",
       "\n",
       "#sk-container-id-1 input.sk-toggleable__control:checked~div.sk-toggleable__content {\n",
       "  /* Expand drop-down */\n",
       "  max-height: 200px;\n",
       "  max-width: 100%;\n",
       "  overflow: auto;\n",
       "}\n",
       "\n",
       "#sk-container-id-1 input.sk-toggleable__control:checked~label.sk-toggleable__label-arrow:before {\n",
       "  content: \"▾\";\n",
       "}\n",
       "\n",
       "/* Pipeline/ColumnTransformer-specific style */\n",
       "\n",
       "#sk-container-id-1 div.sk-label input.sk-toggleable__control:checked~label.sk-toggleable__label {\n",
       "  color: var(--sklearn-color-text);\n",
       "  background-color: var(--sklearn-color-unfitted-level-2);\n",
       "}\n",
       "\n",
       "#sk-container-id-1 div.sk-label.fitted input.sk-toggleable__control:checked~label.sk-toggleable__label {\n",
       "  background-color: var(--sklearn-color-fitted-level-2);\n",
       "}\n",
       "\n",
       "/* Estimator-specific style */\n",
       "\n",
       "/* Colorize estimator box */\n",
       "#sk-container-id-1 div.sk-estimator input.sk-toggleable__control:checked~label.sk-toggleable__label {\n",
       "  /* unfitted */\n",
       "  background-color: var(--sklearn-color-unfitted-level-2);\n",
       "}\n",
       "\n",
       "#sk-container-id-1 div.sk-estimator.fitted input.sk-toggleable__control:checked~label.sk-toggleable__label {\n",
       "  /* fitted */\n",
       "  background-color: var(--sklearn-color-fitted-level-2);\n",
       "}\n",
       "\n",
       "#sk-container-id-1 div.sk-label label.sk-toggleable__label,\n",
       "#sk-container-id-1 div.sk-label label {\n",
       "  /* The background is the default theme color */\n",
       "  color: var(--sklearn-color-text-on-default-background);\n",
       "}\n",
       "\n",
       "/* On hover, darken the color of the background */\n",
       "#sk-container-id-1 div.sk-label:hover label.sk-toggleable__label {\n",
       "  color: var(--sklearn-color-text);\n",
       "  background-color: var(--sklearn-color-unfitted-level-2);\n",
       "}\n",
       "\n",
       "/* Label box, darken color on hover, fitted */\n",
       "#sk-container-id-1 div.sk-label.fitted:hover label.sk-toggleable__label.fitted {\n",
       "  color: var(--sklearn-color-text);\n",
       "  background-color: var(--sklearn-color-fitted-level-2);\n",
       "}\n",
       "\n",
       "/* Estimator label */\n",
       "\n",
       "#sk-container-id-1 div.sk-label label {\n",
       "  font-family: monospace;\n",
       "  font-weight: bold;\n",
       "  display: inline-block;\n",
       "  line-height: 1.2em;\n",
       "}\n",
       "\n",
       "#sk-container-id-1 div.sk-label-container {\n",
       "  text-align: center;\n",
       "}\n",
       "\n",
       "/* Estimator-specific */\n",
       "#sk-container-id-1 div.sk-estimator {\n",
       "  font-family: monospace;\n",
       "  border: 1px dotted var(--sklearn-color-border-box);\n",
       "  border-radius: 0.25em;\n",
       "  box-sizing: border-box;\n",
       "  margin-bottom: 0.5em;\n",
       "  /* unfitted */\n",
       "  background-color: var(--sklearn-color-unfitted-level-0);\n",
       "}\n",
       "\n",
       "#sk-container-id-1 div.sk-estimator.fitted {\n",
       "  /* fitted */\n",
       "  background-color: var(--sklearn-color-fitted-level-0);\n",
       "}\n",
       "\n",
       "/* on hover */\n",
       "#sk-container-id-1 div.sk-estimator:hover {\n",
       "  /* unfitted */\n",
       "  background-color: var(--sklearn-color-unfitted-level-2);\n",
       "}\n",
       "\n",
       "#sk-container-id-1 div.sk-estimator.fitted:hover {\n",
       "  /* fitted */\n",
       "  background-color: var(--sklearn-color-fitted-level-2);\n",
       "}\n",
       "\n",
       "/* Specification for estimator info (e.g. \"i\" and \"?\") */\n",
       "\n",
       "/* Common style for \"i\" and \"?\" */\n",
       "\n",
       ".sk-estimator-doc-link,\n",
       "a:link.sk-estimator-doc-link,\n",
       "a:visited.sk-estimator-doc-link {\n",
       "  float: right;\n",
       "  font-size: smaller;\n",
       "  line-height: 1em;\n",
       "  font-family: monospace;\n",
       "  background-color: var(--sklearn-color-background);\n",
       "  border-radius: 1em;\n",
       "  height: 1em;\n",
       "  width: 1em;\n",
       "  text-decoration: none !important;\n",
       "  margin-left: 0.5em;\n",
       "  text-align: center;\n",
       "  /* unfitted */\n",
       "  border: var(--sklearn-color-unfitted-level-1) 1pt solid;\n",
       "  color: var(--sklearn-color-unfitted-level-1);\n",
       "}\n",
       "\n",
       ".sk-estimator-doc-link.fitted,\n",
       "a:link.sk-estimator-doc-link.fitted,\n",
       "a:visited.sk-estimator-doc-link.fitted {\n",
       "  /* fitted */\n",
       "  border: var(--sklearn-color-fitted-level-1) 1pt solid;\n",
       "  color: var(--sklearn-color-fitted-level-1);\n",
       "}\n",
       "\n",
       "/* On hover */\n",
       "div.sk-estimator:hover .sk-estimator-doc-link:hover,\n",
       ".sk-estimator-doc-link:hover,\n",
       "div.sk-label-container:hover .sk-estimator-doc-link:hover,\n",
       ".sk-estimator-doc-link:hover {\n",
       "  /* unfitted */\n",
       "  background-color: var(--sklearn-color-unfitted-level-3);\n",
       "  color: var(--sklearn-color-background);\n",
       "  text-decoration: none;\n",
       "}\n",
       "\n",
       "div.sk-estimator.fitted:hover .sk-estimator-doc-link.fitted:hover,\n",
       ".sk-estimator-doc-link.fitted:hover,\n",
       "div.sk-label-container:hover .sk-estimator-doc-link.fitted:hover,\n",
       ".sk-estimator-doc-link.fitted:hover {\n",
       "  /* fitted */\n",
       "  background-color: var(--sklearn-color-fitted-level-3);\n",
       "  color: var(--sklearn-color-background);\n",
       "  text-decoration: none;\n",
       "}\n",
       "\n",
       "/* Span, style for the box shown on hovering the info icon */\n",
       ".sk-estimator-doc-link span {\n",
       "  display: none;\n",
       "  z-index: 9999;\n",
       "  position: relative;\n",
       "  font-weight: normal;\n",
       "  right: .2ex;\n",
       "  padding: .5ex;\n",
       "  margin: .5ex;\n",
       "  width: min-content;\n",
       "  min-width: 20ex;\n",
       "  max-width: 50ex;\n",
       "  color: var(--sklearn-color-text);\n",
       "  box-shadow: 2pt 2pt 4pt #999;\n",
       "  /* unfitted */\n",
       "  background: var(--sklearn-color-unfitted-level-0);\n",
       "  border: .5pt solid var(--sklearn-color-unfitted-level-3);\n",
       "}\n",
       "\n",
       ".sk-estimator-doc-link.fitted span {\n",
       "  /* fitted */\n",
       "  background: var(--sklearn-color-fitted-level-0);\n",
       "  border: var(--sklearn-color-fitted-level-3);\n",
       "}\n",
       "\n",
       ".sk-estimator-doc-link:hover span {\n",
       "  display: block;\n",
       "}\n",
       "\n",
       "/* \"?\"-specific style due to the `<a>` HTML tag */\n",
       "\n",
       "#sk-container-id-1 a.estimator_doc_link {\n",
       "  float: right;\n",
       "  font-size: 1rem;\n",
       "  line-height: 1em;\n",
       "  font-family: monospace;\n",
       "  background-color: var(--sklearn-color-background);\n",
       "  border-radius: 1rem;\n",
       "  height: 1rem;\n",
       "  width: 1rem;\n",
       "  text-decoration: none;\n",
       "  /* unfitted */\n",
       "  color: var(--sklearn-color-unfitted-level-1);\n",
       "  border: var(--sklearn-color-unfitted-level-1) 1pt solid;\n",
       "}\n",
       "\n",
       "#sk-container-id-1 a.estimator_doc_link.fitted {\n",
       "  /* fitted */\n",
       "  border: var(--sklearn-color-fitted-level-1) 1pt solid;\n",
       "  color: var(--sklearn-color-fitted-level-1);\n",
       "}\n",
       "\n",
       "/* On hover */\n",
       "#sk-container-id-1 a.estimator_doc_link:hover {\n",
       "  /* unfitted */\n",
       "  background-color: var(--sklearn-color-unfitted-level-3);\n",
       "  color: var(--sklearn-color-background);\n",
       "  text-decoration: none;\n",
       "}\n",
       "\n",
       "#sk-container-id-1 a.estimator_doc_link.fitted:hover {\n",
       "  /* fitted */\n",
       "  background-color: var(--sklearn-color-fitted-level-3);\n",
       "}\n",
       "</style><div id=\"sk-container-id-1\" class=\"sk-top-container\"><div class=\"sk-text-repr-fallback\"><pre>MLPRegressor(hidden_layer_sizes=(100, 100, 100, 100), random_state=444)</pre><b>In a Jupyter environment, please rerun this cell to show the HTML representation or trust the notebook. <br />On GitHub, the HTML representation is unable to render, please try loading this page with nbviewer.org.</b></div><div class=\"sk-container\" hidden><div class=\"sk-item\"><div class=\"sk-estimator fitted sk-toggleable\"><input class=\"sk-toggleable__control sk-hidden--visually\" id=\"sk-estimator-id-1\" type=\"checkbox\" checked><label for=\"sk-estimator-id-1\" class=\"sk-toggleable__label fitted sk-toggleable__label-arrow\"><div><div>MLPRegressor</div></div><div><a class=\"sk-estimator-doc-link fitted\" rel=\"noreferrer\" target=\"_blank\" href=\"https://scikit-learn.org/1.6/modules/generated/sklearn.neural_network.MLPRegressor.html\">?<span>Documentation for MLPRegressor</span></a><span class=\"sk-estimator-doc-link fitted\">i<span>Fitted</span></span></div></label><div class=\"sk-toggleable__content fitted\"><pre>MLPRegressor(hidden_layer_sizes=(100, 100, 100, 100), random_state=444)</pre></div> </div></div></div></div>"
      ],
      "text/plain": [
       "MLPRegressor(hidden_layer_sizes=(100, 100, 100, 100), random_state=444)"
      ]
     },
     "execution_count": 39,
     "metadata": {},
     "output_type": "execute_result"
    }
   ],
   "source": [
    "mlp = MLPRegressor(hidden_layer_sizes = (100,100,100,100), random_state=444)\n",
    "mlp.fit(X_16,y_16)"
   ]
  },
  {
   "cell_type": "code",
   "execution_count": 40,
   "metadata": {
    "collapsed": false,
    "jupyter": {
     "outputs_hidden": false
    }
   },
   "outputs": [
    {
     "data": {
      "text/plain": [
       "0.8231209796331261"
      ]
     },
     "execution_count": 40,
     "metadata": {},
     "output_type": "execute_result"
    }
   ],
   "source": [
    "mlp.score(X_17, y_17)"
   ]
  },
  {
   "cell_type": "markdown",
   "metadata": {},
   "source": [
    "## Combine predictions and actual results into one dataframe"
   ]
  },
  {
   "cell_type": "code",
   "execution_count": 41,
   "metadata": {
    "collapsed": false,
    "jupyter": {
     "outputs_hidden": false
    }
   },
   "outputs": [],
   "source": [
    "mlp_predicts = mlp.predict(X_16)"
   ]
  },
  {
   "cell_type": "code",
   "execution_count": 42,
   "metadata": {},
   "outputs": [],
   "source": [
    "xgb_predicts = xgb.predict(X_16)"
   ]
  },
  {
   "cell_type": "code",
   "execution_count": 43,
   "metadata": {
    "collapsed": false,
    "jupyter": {
     "outputs_hidden": false
    }
   },
   "outputs": [],
   "source": [
    "hour_totals_17['Predicted_mlp'] = pd.Series(mlp_predicts)\n",
    "hour_totals_17['Predicted_xgb'] = pd.Series(xgb_predicts)"
   ]
  },
  {
   "cell_type": "markdown",
   "metadata": {},
   "source": [
    "### Divide by 365 to get the number of crime incidents each day"
   ]
  },
  {
   "cell_type": "code",
   "execution_count": 44,
   "metadata": {
    "collapsed": false,
    "jupyter": {
     "outputs_hidden": false
    }
   },
   "outputs": [],
   "source": [
    "hour_totals_17['Crimes'] = hour_totals_17['Crimes']/365\n",
    "hour_totals_17['Predicted_mlp'] = hour_totals_17['Predicted_mlp']/365\n",
    "hour_totals_17['Predicted_xgb'] = hour_totals_17['Predicted_xgb']/365\n"
   ]
  },
  {
   "cell_type": "code",
   "execution_count": 45,
   "metadata": {
    "collapsed": false,
    "jupyter": {
     "outputs_hidden": false
    }
   },
   "outputs": [],
   "source": [
    "hour_totals_17 = np.round(hour_totals_17,2)"
   ]
  },
  {
   "cell_type": "code",
   "execution_count": 46,
   "metadata": {
    "collapsed": false,
    "jupyter": {
     "outputs_hidden": false
    }
   },
   "outputs": [],
   "source": [
    "#hour_totals_17.to_json(\"./colombia/crime_predictions.json\", orient='records', double_precision=2)\n",
    "\n",
    "os.makedirs(\"./colombia\", exist_ok=True)\n",
    "hour_totals_17.to_json(\"./colombia/crime_predictions.json\", orient='records', double_precision=2)"
   ]
  },
  {
   "cell_type": "markdown",
   "metadata": {},
   "source": [
    "## Create a quick Chloropleth map as a sanity check"
   ]
  },
  {
   "cell_type": "code",
   "execution_count": 47,
   "metadata": {},
   "outputs": [
    {
     "data": {
      "text/html": [
       "<div>\n",
       "<style scoped>\n",
       "    .dataframe tbody tr th:only-of-type {\n",
       "        vertical-align: middle;\n",
       "    }\n",
       "\n",
       "    .dataframe tbody tr th {\n",
       "        vertical-align: top;\n",
       "    }\n",
       "\n",
       "    .dataframe thead th {\n",
       "        text-align: right;\n",
       "    }\n",
       "</style>\n",
       "<table border=\"1\" class=\"dataframe\">\n",
       "  <thead>\n",
       "    <tr style=\"text-align: right;\">\n",
       "      <th></th>\n",
       "      <th>Crimes</th>\n",
       "      <th>Hour</th>\n",
       "      <th>DayOfWeek</th>\n",
       "      <th>zip</th>\n",
       "      <th>Predicted_mlp</th>\n",
       "      <th>Predicted_xgb</th>\n",
       "      <th>zip_code</th>\n",
       "      <th>st_area_sh</th>\n",
       "      <th>sqmi</th>\n",
       "      <th>state</th>\n",
       "      <th>pop10_sqmi</th>\n",
       "      <th>st_length_</th>\n",
       "      <th>objectid</th>\n",
       "      <th>po_name</th>\n",
       "      <th>pop2010</th>\n",
       "      <th>id</th>\n",
       "      <th>multigeom</th>\n",
       "      <th>geometry</th>\n",
       "    </tr>\n",
       "  </thead>\n",
       "  <tbody>\n",
       "    <tr>\n",
       "      <th>0</th>\n",
       "      <td>0.23</td>\n",
       "      <td>0</td>\n",
       "      <td>Friday</td>\n",
       "      <td>94102</td>\n",
       "      <td>0.34</td>\n",
       "      <td>0.32</td>\n",
       "      <td>94102</td>\n",
       "      <td>18949880.4889</td>\n",
       "      <td>0.68</td>\n",
       "      <td>CA</td>\n",
       "      <td>59770.6</td>\n",
       "      <td>23763.5377913</td>\n",
       "      <td>62</td>\n",
       "      <td>San Francisco</td>\n",
       "      <td>40644</td>\n",
       "      <td>94102</td>\n",
       "      <td>false</td>\n",
       "      <td>POLYGON ((-122.40588 37.78572, -122.40598 37.7...</td>\n",
       "    </tr>\n",
       "    <tr>\n",
       "      <th>1</th>\n",
       "      <td>0.13</td>\n",
       "      <td>1</td>\n",
       "      <td>Friday</td>\n",
       "      <td>94102</td>\n",
       "      <td>0.19</td>\n",
       "      <td>0.20</td>\n",
       "      <td>94102</td>\n",
       "      <td>18949880.4889</td>\n",
       "      <td>0.68</td>\n",
       "      <td>CA</td>\n",
       "      <td>59770.6</td>\n",
       "      <td>23763.5377913</td>\n",
       "      <td>62</td>\n",
       "      <td>San Francisco</td>\n",
       "      <td>40644</td>\n",
       "      <td>94102</td>\n",
       "      <td>false</td>\n",
       "      <td>POLYGON ((-122.40588 37.78572, -122.40598 37.7...</td>\n",
       "    </tr>\n",
       "    <tr>\n",
       "      <th>2</th>\n",
       "      <td>0.14</td>\n",
       "      <td>2</td>\n",
       "      <td>Friday</td>\n",
       "      <td>94102</td>\n",
       "      <td>0.18</td>\n",
       "      <td>0.18</td>\n",
       "      <td>94102</td>\n",
       "      <td>18949880.4889</td>\n",
       "      <td>0.68</td>\n",
       "      <td>CA</td>\n",
       "      <td>59770.6</td>\n",
       "      <td>23763.5377913</td>\n",
       "      <td>62</td>\n",
       "      <td>San Francisco</td>\n",
       "      <td>40644</td>\n",
       "      <td>94102</td>\n",
       "      <td>false</td>\n",
       "      <td>POLYGON ((-122.40588 37.78572, -122.40598 37.7...</td>\n",
       "    </tr>\n",
       "    <tr>\n",
       "      <th>3</th>\n",
       "      <td>0.05</td>\n",
       "      <td>3</td>\n",
       "      <td>Friday</td>\n",
       "      <td>94102</td>\n",
       "      <td>0.12</td>\n",
       "      <td>0.13</td>\n",
       "      <td>94102</td>\n",
       "      <td>18949880.4889</td>\n",
       "      <td>0.68</td>\n",
       "      <td>CA</td>\n",
       "      <td>59770.6</td>\n",
       "      <td>23763.5377913</td>\n",
       "      <td>62</td>\n",
       "      <td>San Francisco</td>\n",
       "      <td>40644</td>\n",
       "      <td>94102</td>\n",
       "      <td>false</td>\n",
       "      <td>POLYGON ((-122.40588 37.78572, -122.40598 37.7...</td>\n",
       "    </tr>\n",
       "    <tr>\n",
       "      <th>4</th>\n",
       "      <td>0.07</td>\n",
       "      <td>4</td>\n",
       "      <td>Friday</td>\n",
       "      <td>94102</td>\n",
       "      <td>0.08</td>\n",
       "      <td>0.07</td>\n",
       "      <td>94102</td>\n",
       "      <td>18949880.4889</td>\n",
       "      <td>0.68</td>\n",
       "      <td>CA</td>\n",
       "      <td>59770.6</td>\n",
       "      <td>23763.5377913</td>\n",
       "      <td>62</td>\n",
       "      <td>San Francisco</td>\n",
       "      <td>40644</td>\n",
       "      <td>94102</td>\n",
       "      <td>false</td>\n",
       "      <td>POLYGON ((-122.40588 37.78572, -122.40598 37.7...</td>\n",
       "    </tr>\n",
       "    <tr>\n",
       "      <th>...</th>\n",
       "      <td>...</td>\n",
       "      <td>...</td>\n",
       "      <td>...</td>\n",
       "      <td>...</td>\n",
       "      <td>...</td>\n",
       "      <td>...</td>\n",
       "      <td>...</td>\n",
       "      <td>...</td>\n",
       "      <td>...</td>\n",
       "      <td>...</td>\n",
       "      <td>...</td>\n",
       "      <td>...</td>\n",
       "      <td>...</td>\n",
       "      <td>...</td>\n",
       "      <td>...</td>\n",
       "      <td>...</td>\n",
       "      <td>...</td>\n",
       "      <td>...</td>\n",
       "    </tr>\n",
       "    <tr>\n",
       "      <th>5003</th>\n",
       "      <td>0.01</td>\n",
       "      <td>22</td>\n",
       "      <td>Wednesday</td>\n",
       "      <td>94158</td>\n",
       "      <td>0.06</td>\n",
       "      <td>0.06</td>\n",
       "      <td>94158</td>\n",
       "      <td>13809547.9654</td>\n",
       "      <td>0.5</td>\n",
       "      <td>CA</td>\n",
       "      <td>9522.0</td>\n",
       "      <td>33679.7961734</td>\n",
       "      <td>61</td>\n",
       "      <td>San Francisco</td>\n",
       "      <td>4761</td>\n",
       "      <td>94158</td>\n",
       "      <td>true</td>\n",
       "      <td>POLYGON ((-122.38389 37.76813, -122.38388 37.7...</td>\n",
       "    </tr>\n",
       "    <tr>\n",
       "      <th>5004</th>\n",
       "      <td>0.01</td>\n",
       "      <td>22</td>\n",
       "      <td>Wednesday</td>\n",
       "      <td>94158</td>\n",
       "      <td>0.06</td>\n",
       "      <td>0.06</td>\n",
       "      <td>94158</td>\n",
       "      <td>13809547.9654</td>\n",
       "      <td>0.5</td>\n",
       "      <td>CA</td>\n",
       "      <td>9522.0</td>\n",
       "      <td>33679.7961734</td>\n",
       "      <td>61</td>\n",
       "      <td>San Francisco</td>\n",
       "      <td>4761</td>\n",
       "      <td>94158</td>\n",
       "      <td>true</td>\n",
       "      <td>POLYGON ((-122.38328 37.76696, -122.38331 37.7...</td>\n",
       "    </tr>\n",
       "    <tr>\n",
       "      <th>5005</th>\n",
       "      <td>0.00</td>\n",
       "      <td>23</td>\n",
       "      <td>Wednesday</td>\n",
       "      <td>94158</td>\n",
       "      <td>0.06</td>\n",
       "      <td>0.06</td>\n",
       "      <td>94158</td>\n",
       "      <td>13809547.9654</td>\n",
       "      <td>0.5</td>\n",
       "      <td>CA</td>\n",
       "      <td>9522.0</td>\n",
       "      <td>33679.7961734</td>\n",
       "      <td>61</td>\n",
       "      <td>San Francisco</td>\n",
       "      <td>4761</td>\n",
       "      <td>94158</td>\n",
       "      <td>true</td>\n",
       "      <td>POLYGON ((-122.39082 37.77667, -122.39258 37.7...</td>\n",
       "    </tr>\n",
       "    <tr>\n",
       "      <th>5006</th>\n",
       "      <td>0.00</td>\n",
       "      <td>23</td>\n",
       "      <td>Wednesday</td>\n",
       "      <td>94158</td>\n",
       "      <td>0.06</td>\n",
       "      <td>0.06</td>\n",
       "      <td>94158</td>\n",
       "      <td>13809547.9654</td>\n",
       "      <td>0.5</td>\n",
       "      <td>CA</td>\n",
       "      <td>9522.0</td>\n",
       "      <td>33679.7961734</td>\n",
       "      <td>61</td>\n",
       "      <td>San Francisco</td>\n",
       "      <td>4761</td>\n",
       "      <td>94158</td>\n",
       "      <td>true</td>\n",
       "      <td>POLYGON ((-122.38389 37.76813, -122.38388 37.7...</td>\n",
       "    </tr>\n",
       "    <tr>\n",
       "      <th>5007</th>\n",
       "      <td>0.00</td>\n",
       "      <td>23</td>\n",
       "      <td>Wednesday</td>\n",
       "      <td>94158</td>\n",
       "      <td>0.06</td>\n",
       "      <td>0.06</td>\n",
       "      <td>94158</td>\n",
       "      <td>13809547.9654</td>\n",
       "      <td>0.5</td>\n",
       "      <td>CA</td>\n",
       "      <td>9522.0</td>\n",
       "      <td>33679.7961734</td>\n",
       "      <td>61</td>\n",
       "      <td>San Francisco</td>\n",
       "      <td>4761</td>\n",
       "      <td>94158</td>\n",
       "      <td>true</td>\n",
       "      <td>POLYGON ((-122.38328 37.76696, -122.38331 37.7...</td>\n",
       "    </tr>\n",
       "  </tbody>\n",
       "</table>\n",
       "<p>5008 rows × 18 columns</p>\n",
       "</div>"
      ],
      "text/plain": [
       "      Crimes  Hour  DayOfWeek    zip  Predicted_mlp  Predicted_xgb zip_code  \\\n",
       "0       0.23     0     Friday  94102           0.34           0.32    94102   \n",
       "1       0.13     1     Friday  94102           0.19           0.20    94102   \n",
       "2       0.14     2     Friday  94102           0.18           0.18    94102   \n",
       "3       0.05     3     Friday  94102           0.12           0.13    94102   \n",
       "4       0.07     4     Friday  94102           0.08           0.07    94102   \n",
       "...      ...   ...        ...    ...            ...            ...      ...   \n",
       "5003    0.01    22  Wednesday  94158           0.06           0.06    94158   \n",
       "5004    0.01    22  Wednesday  94158           0.06           0.06    94158   \n",
       "5005    0.00    23  Wednesday  94158           0.06           0.06    94158   \n",
       "5006    0.00    23  Wednesday  94158           0.06           0.06    94158   \n",
       "5007    0.00    23  Wednesday  94158           0.06           0.06    94158   \n",
       "\n",
       "         st_area_sh  sqmi state pop10_sqmi     st_length_ objectid  \\\n",
       "0     18949880.4889  0.68    CA    59770.6  23763.5377913       62   \n",
       "1     18949880.4889  0.68    CA    59770.6  23763.5377913       62   \n",
       "2     18949880.4889  0.68    CA    59770.6  23763.5377913       62   \n",
       "3     18949880.4889  0.68    CA    59770.6  23763.5377913       62   \n",
       "4     18949880.4889  0.68    CA    59770.6  23763.5377913       62   \n",
       "...             ...   ...   ...        ...            ...      ...   \n",
       "5003  13809547.9654   0.5    CA     9522.0  33679.7961734       61   \n",
       "5004  13809547.9654   0.5    CA     9522.0  33679.7961734       61   \n",
       "5005  13809547.9654   0.5    CA     9522.0  33679.7961734       61   \n",
       "5006  13809547.9654   0.5    CA     9522.0  33679.7961734       61   \n",
       "5007  13809547.9654   0.5    CA     9522.0  33679.7961734       61   \n",
       "\n",
       "            po_name pop2010     id multigeom  \\\n",
       "0     San Francisco   40644  94102     false   \n",
       "1     San Francisco   40644  94102     false   \n",
       "2     San Francisco   40644  94102     false   \n",
       "3     San Francisco   40644  94102     false   \n",
       "4     San Francisco   40644  94102     false   \n",
       "...             ...     ...    ...       ...   \n",
       "5003  San Francisco    4761  94158      true   \n",
       "5004  San Francisco    4761  94158      true   \n",
       "5005  San Francisco    4761  94158      true   \n",
       "5006  San Francisco    4761  94158      true   \n",
       "5007  San Francisco    4761  94158      true   \n",
       "\n",
       "                                               geometry  \n",
       "0     POLYGON ((-122.40588 37.78572, -122.40598 37.7...  \n",
       "1     POLYGON ((-122.40588 37.78572, -122.40598 37.7...  \n",
       "2     POLYGON ((-122.40588 37.78572, -122.40598 37.7...  \n",
       "3     POLYGON ((-122.40588 37.78572, -122.40598 37.7...  \n",
       "4     POLYGON ((-122.40588 37.78572, -122.40598 37.7...  \n",
       "...                                                 ...  \n",
       "5003  POLYGON ((-122.38389 37.76813, -122.38388 37.7...  \n",
       "5004  POLYGON ((-122.38328 37.76696, -122.38331 37.7...  \n",
       "5005  POLYGON ((-122.39082 37.77667, -122.39258 37.7...  \n",
       "5006  POLYGON ((-122.38389 37.76813, -122.38388 37.7...  \n",
       "5007  POLYGON ((-122.38328 37.76696, -122.38331 37.7...  \n",
       "\n",
       "[5008 rows x 18 columns]"
      ]
     },
     "execution_count": 47,
     "metadata": {},
     "output_type": "execute_result"
    }
   ],
   "source": [
    "chloropleth_data = hour_totals_17.merge(sf)\n",
    "chloropleth_data = geopandas.GeoDataFrame(chloropleth_data, geometry='geometry')\n",
    "#chloropleth_data.crs = {'init': 'epsg:4326'}\n",
    "chloropleth_data.set_crs(\"EPSG:4326\", inplace=True)"
   ]
  },
  {
   "cell_type": "code",
   "execution_count": 49,
   "metadata": {
    "collapsed": false,
    "jupyter": {
     "outputs_hidden": false
    }
   },
   "outputs": [
    {
     "data": {
      "text/plain": [
       "<Axes: >"
      ]
     },
     "execution_count": 49,
     "metadata": {},
     "output_type": "execute_result"
    }
   ],
   "source": [
    "chloropleth_data.plot(column='Crimes', cmap='OrRd', figsize=(13,10))"
   ]
  },
  {
   "cell_type": "markdown",
   "metadata": {
    "collapsed": true,
    "jupyter": {
     "outputs_hidden": true
    }
   },
   "source": [
    "### The next step is to make an interactive visualization. For this, I will move to D3.js"
   ]
  }
 ],
 "metadata": {
  "kernelspec": {
   "display_name": "Python [conda env:base] *",
   "language": "python",
   "name": "conda-base-py"
  },
  "language_info": {
   "codemirror_mode": {
    "name": "ipython",
    "version": 3
   },
   "file_extension": ".py",
   "mimetype": "text/x-python",
   "name": "python",
   "nbconvert_exporter": "python",
   "pygments_lexer": "ipython3",
   "version": "3.13.5"
  }
 },
 "nbformat": 4,
 "nbformat_minor": 4
}
